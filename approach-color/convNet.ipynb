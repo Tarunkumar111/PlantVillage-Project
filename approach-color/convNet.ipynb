{
 "cells": [
  {
   "cell_type": "markdown",
   "metadata": {},
   "source": [
    "### Building your network"
   ]
  },
  {
   "cell_type": "code",
   "execution_count": 1,
   "metadata": {},
   "outputs": [
    {
     "name": "stderr",
     "output_type": "stream",
     "text": [
      "Using TensorFlow backend.\n"
     ]
    },
    {
     "name": "stdout",
     "output_type": "stream",
     "text": [
      "_________________________________________________________________\n",
      "Layer (type)                 Output Shape              Param #   \n",
      "=================================================================\n",
      "conv2d_1 (Conv2D)            (None, 148, 148, 32)      896       \n",
      "_________________________________________________________________\n",
      "max_pooling2d_1 (MaxPooling2 (None, 74, 74, 32)        0         \n",
      "_________________________________________________________________\n",
      "conv2d_2 (Conv2D)            (None, 72, 72, 64)        18496     \n",
      "_________________________________________________________________\n",
      "max_pooling2d_2 (MaxPooling2 (None, 36, 36, 64)        0         \n",
      "_________________________________________________________________\n",
      "conv2d_3 (Conv2D)            (None, 34, 34, 128)       73856     \n",
      "_________________________________________________________________\n",
      "max_pooling2d_3 (MaxPooling2 (None, 17, 17, 128)       0         \n",
      "_________________________________________________________________\n",
      "conv2d_4 (Conv2D)            (None, 15, 15, 256)       295168    \n",
      "_________________________________________________________________\n",
      "max_pooling2d_4 (MaxPooling2 (None, 7, 7, 256)         0         \n",
      "_________________________________________________________________\n",
      "flatten_1 (Flatten)          (None, 12544)             0         \n",
      "_________________________________________________________________\n",
      "dropout_1 (Dropout)          (None, 12544)             0         \n",
      "_________________________________________________________________\n",
      "dense_1 (Dense)              (None, 256)               3211520   \n",
      "_________________________________________________________________\n",
      "dense_2 (Dense)              (None, 6)                 1542      \n",
      "=================================================================\n",
      "Total params: 3,601,478\n",
      "Trainable params: 3,601,478\n",
      "Non-trainable params: 0\n",
      "_________________________________________________________________\n"
     ]
    }
   ],
   "source": [
    "from keras import layers\n",
    "from keras import models\n",
    "from keras import regularizers\n",
    "\n",
    "model = models.Sequential()\n",
    "model.add(layers.Conv2D(32, (3, 3), activation='relu',input_shape=(150, 150, 3)))\n",
    "model.add(layers.MaxPooling2D((2, 2)))\n",
    "model.add(layers.Conv2D(64, (3, 3), activation='relu'))\n",
    "model.add(layers.MaxPooling2D((2, 2)))\n",
    "model.add(layers.Conv2D(128, (3, 3), activation='relu'))\n",
    "model.add(layers.MaxPooling2D((2, 2)))\n",
    "model.add(layers.Conv2D(256, (3, 3), activation='relu'))\n",
    "model.add(layers.MaxPooling2D((2, 2)))\n",
    "model.add(layers.Flatten())\n",
    "model.add(layers.Dropout(0.6))\n",
    "model.add(layers.Dense(256, activation='relu' ,kernel_regularizer=regularizers.l2(0.002)))\n",
    "model.add(layers.Dense(6, activation='softmax'))\n",
    "\n",
    "model.summary()"
   ]
  },
  {
   "cell_type": "code",
   "execution_count": 2,
   "metadata": {},
   "outputs": [],
   "source": [
    "from keras import optimizers\n",
    "model.compile(loss='categorical_crossentropy',\n",
    "optimizer=optimizers.Adam(lr=1e-3),\n",
    "metrics=['acc'])"
   ]
  },
  {
   "cell_type": "markdown",
   "metadata": {},
   "source": [
    "### Data preprocessing\n",
    "Using ImageDataGenerator to read images from directories"
   ]
  },
  {
   "cell_type": "code",
   "execution_count": 3,
   "metadata": {},
   "outputs": [
    {
     "name": "stdout",
     "output_type": "stream",
     "text": [
      "Found 7322 images belonging to 6 classes.\n",
      "Found 1370 images belonging to 6 classes.\n"
     ]
    }
   ],
   "source": [
    "from keras.preprocessing.image import ImageDataGenerator\n",
    "\n",
    "train_dir = \"../dataset_splits/train\"\n",
    "validation_dir = \"../dataset_splits/validation\"\n",
    "\n",
    "# Rescales all images by 1/255\n",
    "train_datagen = ImageDataGenerator(rescale=1./255)\n",
    "validation_datagen = ImageDataGenerator(rescale=1./255)\n",
    "\n",
    "\n",
    "train_generator = train_datagen.flow_from_directory(\n",
    "    train_dir, # Target directory\n",
    "    target_size=(150, 150), #Resizes all images to 150 × 150\n",
    "    batch_size=32,\n",
    "    class_mode='categorical') #Because you use binary_crossentropy loss, you need binary labels\n",
    "\n",
    "\n",
    "validation_generator = validation_datagen.flow_from_directory(\n",
    "    validation_dir,\n",
    "    target_size=(150, 150),\n",
    "    batch_size=32,\n",
    "    class_mode='categorical')"
   ]
  },
  {
   "cell_type": "markdown",
   "metadata": {},
   "source": [
    "### Fitting the model using a batch generator"
   ]
  },
  {
   "cell_type": "code",
   "execution_count": 4,
   "metadata": {},
   "outputs": [
    {
     "name": "stdout",
     "output_type": "stream",
     "text": [
      "Epoch 1/100\n",
      "230/230 [==============================] - 93s 406ms/step - loss: 1.1877 - acc: 0.6549 - val_loss: 0.6937 - val_acc: 0.8314\n",
      "Epoch 2/100\n",
      "230/230 [==============================] - 81s 354ms/step - loss: 0.6497 - acc: 0.8336 - val_loss: 0.5497 - val_acc: 0.8796\n",
      "Epoch 3/100\n",
      "230/230 [==============================] - 81s 353ms/step - loss: 0.5689 - acc: 0.8674 - val_loss: 0.4721 - val_acc: 0.9036\n",
      "Epoch 4/100\n",
      "230/230 [==============================] - 83s 361ms/step - loss: 0.4852 - acc: 0.8959 - val_loss: 0.4066 - val_acc: 0.9204\n",
      "Epoch 5/100\n",
      "230/230 [==============================] - 82s 356ms/step - loss: 0.4230 - acc: 0.9144 - val_loss: 0.4080 - val_acc: 0.9219\n",
      "Epoch 6/100\n",
      "230/230 [==============================] - 80s 347ms/step - loss: 0.4272 - acc: 0.9174 - val_loss: 0.3749 - val_acc: 0.9372\n",
      "Epoch 7/100\n",
      "230/230 [==============================] - 81s 353ms/step - loss: 0.3794 - acc: 0.9296 - val_loss: 0.3510 - val_acc: 0.9423\n",
      "Epoch 8/100\n",
      "230/230 [==============================] - 81s 354ms/step - loss: 0.3417 - acc: 0.9426 - val_loss: 0.3212 - val_acc: 0.9445\n",
      "Epoch 9/100\n",
      "230/230 [==============================] - 82s 356ms/step - loss: 0.3199 - acc: 0.9465 - val_loss: 0.3553 - val_acc: 0.9365\n",
      "Epoch 10/100\n",
      "230/230 [==============================] - 83s 359ms/step - loss: 0.3151 - acc: 0.9505 - val_loss: 0.2883 - val_acc: 0.9577\n",
      "Epoch 11/100\n",
      "230/230 [==============================] - 83s 359ms/step - loss: 0.3134 - acc: 0.9496 - val_loss: 0.2676 - val_acc: 0.9679\n",
      "Epoch 12/100\n",
      "230/230 [==============================] - 80s 349ms/step - loss: 0.3025 - acc: 0.9550 - val_loss: 0.2836 - val_acc: 0.9591\n",
      "Epoch 13/100\n",
      "230/230 [==============================] - 82s 358ms/step - loss: 0.2737 - acc: 0.9617 - val_loss: 0.2618 - val_acc: 0.9657\n",
      "Epoch 14/100\n",
      "230/230 [==============================] - 82s 356ms/step - loss: 0.2547 - acc: 0.9650 - val_loss: 0.2882 - val_acc: 0.9584\n",
      "Epoch 15/100\n",
      "230/230 [==============================] - 82s 354ms/step - loss: 0.2788 - acc: 0.9599 - val_loss: 0.2819 - val_acc: 0.9620\n",
      "Epoch 16/100\n",
      "230/230 [==============================] - 82s 355ms/step - loss: 0.2600 - acc: 0.9654 - val_loss: 0.3116 - val_acc: 0.9438\n",
      "Epoch 17/100\n",
      "230/230 [==============================] - 81s 354ms/step - loss: 0.2498 - acc: 0.9678 - val_loss: 0.2472 - val_acc: 0.9693\n",
      "Epoch 18/100\n",
      "230/230 [==============================] - 81s 354ms/step - loss: 0.2410 - acc: 0.9666 - val_loss: 0.3122 - val_acc: 0.9358\n",
      "Epoch 19/100\n",
      "230/230 [==============================] - 83s 359ms/step - loss: 0.2129 - acc: 0.9747 - val_loss: 0.2160 - val_acc: 0.9701\n",
      "Epoch 20/100\n",
      "230/230 [==============================] - 82s 358ms/step - loss: 0.2070 - acc: 0.9747 - val_loss: 0.2152 - val_acc: 0.9766\n",
      "Epoch 21/100\n",
      "230/230 [==============================] - 82s 355ms/step - loss: 0.2105 - acc: 0.9736 - val_loss: 0.2408 - val_acc: 0.9635\n",
      "Epoch 22/100\n",
      "230/230 [==============================] - 81s 354ms/step - loss: 0.1900 - acc: 0.9790 - val_loss: 0.2375 - val_acc: 0.9620\n",
      "Epoch 23/100\n",
      "230/230 [==============================] - 81s 354ms/step - loss: 0.2013 - acc: 0.9758 - val_loss: 0.2472 - val_acc: 0.9650\n",
      "Epoch 24/100\n",
      "230/230 [==============================] - 82s 358ms/step - loss: 0.1998 - acc: 0.9768 - val_loss: 0.2092 - val_acc: 0.9715\n",
      "Epoch 25/100\n",
      "230/230 [==============================] - 81s 352ms/step - loss: 0.1964 - acc: 0.9753 - val_loss: 0.3492 - val_acc: 0.9314\n",
      "Epoch 26/100\n",
      "230/230 [==============================] - 80s 348ms/step - loss: 0.2148 - acc: 0.9736 - val_loss: 0.2541 - val_acc: 0.9635\n",
      "Epoch 27/100\n",
      "230/230 [==============================] - 80s 347ms/step - loss: 0.1816 - acc: 0.9800 - val_loss: 0.2451 - val_acc: 0.9606\n",
      "Epoch 28/100\n",
      "230/230 [==============================] - 80s 346ms/step - loss: 0.1793 - acc: 0.9810 - val_loss: 0.1892 - val_acc: 0.9766\n",
      "Epoch 29/100\n",
      "230/230 [==============================] - 80s 346ms/step - loss: 0.1585 - acc: 0.9842 - val_loss: 0.2050 - val_acc: 0.9679\n",
      "Epoch 30/100\n",
      "230/230 [==============================] - 80s 348ms/step - loss: 0.1931 - acc: 0.9743 - val_loss: 0.2082 - val_acc: 0.9737\n",
      "Epoch 31/100\n",
      "230/230 [==============================] - 79s 345ms/step - loss: 0.1495 - acc: 0.9872 - val_loss: 0.2043 - val_acc: 0.9628\n",
      "Epoch 32/100\n",
      "230/230 [==============================] - 79s 344ms/step - loss: 0.1682 - acc: 0.9798 - val_loss: 0.1756 - val_acc: 0.9701\n",
      "Epoch 33/100\n",
      "230/230 [==============================] - 79s 344ms/step - loss: 0.1752 - acc: 0.9806 - val_loss: 0.2588 - val_acc: 0.9518\n",
      "Epoch 34/100\n",
      "230/230 [==============================] - 79s 345ms/step - loss: 0.1328 - acc: 0.9906 - val_loss: 0.1931 - val_acc: 0.9752\n",
      "Epoch 35/100\n",
      "230/230 [==============================] - 79s 345ms/step - loss: 0.1613 - acc: 0.9791 - val_loss: 0.3051 - val_acc: 0.9387\n",
      "Epoch 36/100\n",
      "230/230 [==============================] - 81s 350ms/step - loss: 0.1543 - acc: 0.9856 - val_loss: 0.2036 - val_acc: 0.9723\n",
      "Epoch 37/100\n",
      "230/230 [==============================] - 81s 351ms/step - loss: 0.1469 - acc: 0.9857 - val_loss: 0.2037 - val_acc: 0.9664\n",
      "Epoch 38/100\n",
      "230/230 [==============================] - 81s 351ms/step - loss: 0.1516 - acc: 0.9799 - val_loss: 0.1981 - val_acc: 0.9723\n",
      "Epoch 39/100\n",
      "230/230 [==============================] - 80s 349ms/step - loss: 0.1364 - acc: 0.9871 - val_loss: 0.2014 - val_acc: 0.9635\n",
      "Epoch 40/100\n",
      "230/230 [==============================] - 80s 347ms/step - loss: 0.1600 - acc: 0.9792 - val_loss: 0.1949 - val_acc: 0.9693\n",
      "Epoch 41/100\n",
      "230/230 [==============================] - 80s 346ms/step - loss: 0.1349 - acc: 0.9870 - val_loss: 0.1800 - val_acc: 0.9723\n",
      "Epoch 42/100\n",
      "230/230 [==============================] - 81s 351ms/step - loss: 0.1146 - acc: 0.9894 - val_loss: 0.2052 - val_acc: 0.9606\n",
      "Epoch 43/100\n",
      "230/230 [==============================] - 80s 349ms/step - loss: 0.1492 - acc: 0.9812 - val_loss: 0.1833 - val_acc: 0.9693\n",
      "Epoch 44/100\n",
      "230/230 [==============================] - 80s 348ms/step - loss: 0.1206 - acc: 0.9910 - val_loss: 0.2094 - val_acc: 0.9562\n",
      "Epoch 45/100\n",
      "230/230 [==============================] - 81s 353ms/step - loss: 0.1144 - acc: 0.9887 - val_loss: 0.2479 - val_acc: 0.9518\n",
      "Epoch 46/100\n",
      "230/230 [==============================] - 81s 352ms/step - loss: 0.1297 - acc: 0.9867 - val_loss: 0.1528 - val_acc: 0.9766\n",
      "Epoch 47/100\n",
      "230/230 [==============================] - 81s 353ms/step - loss: 0.1163 - acc: 0.9887 - val_loss: 0.1634 - val_acc: 0.9752\n",
      "Epoch 48/100\n",
      "230/230 [==============================] - 81s 352ms/step - loss: 0.1135 - acc: 0.9916 - val_loss: 0.1330 - val_acc: 0.9825\n",
      "Epoch 49/100\n",
      "230/230 [==============================] - 82s 357ms/step - loss: 0.1311 - acc: 0.9848 - val_loss: 0.1559 - val_acc: 0.9788\n",
      "Epoch 50/100\n",
      "230/230 [==============================] - 81s 352ms/step - loss: 0.1439 - acc: 0.9842 - val_loss: 0.1861 - val_acc: 0.9737\n",
      "Epoch 51/100\n",
      "230/230 [==============================] - 80s 347ms/step - loss: 0.1242 - acc: 0.9898 - val_loss: 0.1716 - val_acc: 0.9788\n",
      "Epoch 52/100\n",
      "230/230 [==============================] - 80s 346ms/step - loss: 0.1115 - acc: 0.9905 - val_loss: 0.1322 - val_acc: 0.9803\n",
      "Epoch 53/100\n",
      "230/230 [==============================] - 80s 346ms/step - loss: 0.1183 - acc: 0.9875 - val_loss: 0.1295 - val_acc: 0.9847\n",
      "Epoch 54/100\n",
      "230/230 [==============================] - 80s 347ms/step - loss: 0.1083 - acc: 0.9894 - val_loss: 0.1539 - val_acc: 0.9803\n",
      "Epoch 55/100\n",
      "230/230 [==============================] - 81s 350ms/step - loss: 0.1081 - acc: 0.9899 - val_loss: 0.1384 - val_acc: 0.9774\n",
      "Epoch 56/100\n",
      "230/230 [==============================] - 79s 345ms/step - loss: 0.1068 - acc: 0.9906 - val_loss: 0.1659 - val_acc: 0.9723\n",
      "Epoch 57/100\n",
      "230/230 [==============================] - 79s 345ms/step - loss: 0.1045 - acc: 0.9905 - val_loss: 0.1777 - val_acc: 0.9650\n",
      "Epoch 58/100\n",
      "230/230 [==============================] - 80s 347ms/step - loss: 0.0933 - acc: 0.9924 - val_loss: 0.1790 - val_acc: 0.9672\n",
      "Epoch 59/100\n",
      "230/230 [==============================] - 80s 346ms/step - loss: 0.1025 - acc: 0.9902 - val_loss: 0.1366 - val_acc: 0.9752\n",
      "Epoch 60/100\n",
      "230/230 [==============================] - 80s 348ms/step - loss: 0.0950 - acc: 0.9899 - val_loss: 0.1486 - val_acc: 0.9715\n"
     ]
    },
    {
     "name": "stdout",
     "output_type": "stream",
     "text": [
      "Epoch 61/100\n",
      "230/230 [==============================] - 79s 345ms/step - loss: 0.1124 - acc: 0.9894 - val_loss: 0.1525 - val_acc: 0.9803\n",
      "Epoch 62/100\n",
      "230/230 [==============================] - 80s 346ms/step - loss: 0.0915 - acc: 0.9924 - val_loss: 0.1276 - val_acc: 0.9803\n",
      "Epoch 63/100\n",
      "230/230 [==============================] - 80s 346ms/step - loss: 0.0881 - acc: 0.9921 - val_loss: 0.1527 - val_acc: 0.9766\n",
      "Epoch 64/100\n",
      "230/230 [==============================] - 80s 348ms/step - loss: 0.0925 - acc: 0.9921 - val_loss: 0.1442 - val_acc: 0.9774\n",
      "Epoch 65/100\n",
      "230/230 [==============================] - 80s 346ms/step - loss: 0.1230 - acc: 0.9851 - val_loss: 0.1532 - val_acc: 0.9708\n",
      "Epoch 66/100\n",
      "230/230 [==============================] - 80s 346ms/step - loss: 0.0851 - acc: 0.9946 - val_loss: 0.1501 - val_acc: 0.9745\n",
      "Epoch 67/100\n",
      "230/230 [==============================] - 80s 346ms/step - loss: 0.0720 - acc: 0.9954 - val_loss: 0.1159 - val_acc: 0.9745\n",
      "Epoch 68/100\n",
      "230/230 [==============================] - 80s 346ms/step - loss: 0.1185 - acc: 0.9851 - val_loss: 0.3488 - val_acc: 0.9343\n",
      "Epoch 69/100\n",
      "230/230 [==============================] - 80s 346ms/step - loss: 0.1217 - acc: 0.9874 - val_loss: 0.1205 - val_acc: 0.9847\n",
      "Epoch 70/100\n",
      "230/230 [==============================] - 80s 346ms/step - loss: 0.0840 - acc: 0.9942 - val_loss: 0.1380 - val_acc: 0.9796\n",
      "Epoch 71/100\n",
      "230/230 [==============================] - 80s 346ms/step - loss: 0.0826 - acc: 0.9937 - val_loss: 0.1081 - val_acc: 0.9847\n",
      "Epoch 72/100\n",
      "230/230 [==============================] - 80s 347ms/step - loss: 0.0888 - acc: 0.9905 - val_loss: 0.1481 - val_acc: 0.9737\n",
      "Epoch 73/100\n",
      "230/230 [==============================] - 80s 347ms/step - loss: 0.0918 - acc: 0.9916 - val_loss: 0.1192 - val_acc: 0.9796\n",
      "Epoch 74/100\n",
      "230/230 [==============================] - 79s 344ms/step - loss: 0.0617 - acc: 0.9974 - val_loss: 0.1234 - val_acc: 0.9781\n",
      "Epoch 75/100\n",
      "230/230 [==============================] - 79s 344ms/step - loss: 0.0643 - acc: 0.9951 - val_loss: 0.0859 - val_acc: 0.9883\n",
      "Epoch 76/100\n",
      "230/230 [==============================] - 80s 346ms/step - loss: 0.0714 - acc: 0.9937 - val_loss: 0.0935 - val_acc: 0.9847\n",
      "Epoch 77/100\n",
      "230/230 [==============================] - 80s 349ms/step - loss: 0.0875 - acc: 0.9905 - val_loss: 0.1024 - val_acc: 0.9861\n",
      "Epoch 78/100\n",
      "230/230 [==============================] - 79s 345ms/step - loss: 0.0857 - acc: 0.9910 - val_loss: 0.2287 - val_acc: 0.9526\n",
      "Epoch 79/100\n",
      "230/230 [==============================] - 79s 344ms/step - loss: 0.1136 - acc: 0.9865 - val_loss: 0.1927 - val_acc: 0.9672\n",
      "Epoch 80/100\n",
      "230/230 [==============================] - 79s 344ms/step - loss: 0.1076 - acc: 0.9894 - val_loss: 0.2204 - val_acc: 0.9599\n",
      "Epoch 81/100\n",
      "230/230 [==============================] - 79s 344ms/step - loss: 0.1070 - acc: 0.9885 - val_loss: 0.1523 - val_acc: 0.9752\n",
      "Epoch 82/100\n",
      "230/230 [==============================] - 80s 348ms/step - loss: 0.0760 - acc: 0.9955 - val_loss: 0.1295 - val_acc: 0.9781\n",
      "Epoch 83/100\n",
      "230/230 [==============================] - 79s 345ms/step - loss: 0.0847 - acc: 0.9913 - val_loss: 0.1239 - val_acc: 0.9745\n",
      "Epoch 84/100\n",
      "230/230 [==============================] - 79s 344ms/step - loss: 0.0665 - acc: 0.9965 - val_loss: 0.1032 - val_acc: 0.9810\n",
      "Epoch 85/100\n",
      "230/230 [==============================] - 79s 344ms/step - loss: 0.0639 - acc: 0.9948 - val_loss: 0.0897 - val_acc: 0.9876\n",
      "Epoch 86/100\n",
      "230/230 [==============================] - 79s 344ms/step - loss: 0.0466 - acc: 0.9984 - val_loss: 0.1286 - val_acc: 0.9737\n",
      "Epoch 87/100\n",
      "230/230 [==============================] - 79s 344ms/step - loss: 0.0522 - acc: 0.9950 - val_loss: 0.1196 - val_acc: 0.9759\n",
      "Epoch 88/100\n",
      "230/230 [==============================] - 79s 345ms/step - loss: 0.0768 - acc: 0.9904 - val_loss: 0.1659 - val_acc: 0.9730\n",
      "Epoch 89/100\n",
      "230/230 [==============================] - 79s 345ms/step - loss: 0.1000 - acc: 0.9871 - val_loss: 0.1080 - val_acc: 0.9854\n",
      "Epoch 90/100\n",
      "230/230 [==============================] - 79s 345ms/step - loss: 0.0662 - acc: 0.9973 - val_loss: 0.1049 - val_acc: 0.9839\n",
      "Epoch 91/100\n",
      "230/230 [==============================] - 79s 345ms/step - loss: 0.0657 - acc: 0.9939 - val_loss: 0.0847 - val_acc: 0.9912\n",
      "Epoch 92/100\n",
      "230/230 [==============================] - 79s 345ms/step - loss: 0.0776 - acc: 0.9904 - val_loss: 0.1308 - val_acc: 0.9825\n",
      "Epoch 93/100\n",
      "230/230 [==============================] - 79s 345ms/step - loss: 0.0630 - acc: 0.9954 - val_loss: 0.0944 - val_acc: 0.9876\n",
      "Epoch 94/100\n",
      "230/230 [==============================] - 80s 346ms/step - loss: 0.0609 - acc: 0.9959 - val_loss: 0.1524 - val_acc: 0.9664\n",
      "Epoch 95/100\n",
      "230/230 [==============================] - 79s 346ms/step - loss: 0.0796 - acc: 0.9923 - val_loss: 0.1038 - val_acc: 0.9861\n",
      "Epoch 96/100\n",
      "230/230 [==============================] - 80s 346ms/step - loss: 0.0760 - acc: 0.9931 - val_loss: 0.1279 - val_acc: 0.9759\n",
      "Epoch 97/100\n",
      "230/230 [==============================] - 80s 346ms/step - loss: 0.0913 - acc: 0.9891 - val_loss: 0.1042 - val_acc: 0.9847\n",
      "Epoch 98/100\n",
      "230/230 [==============================] - 80s 346ms/step - loss: 0.0628 - acc: 0.9966 - val_loss: 0.0965 - val_acc: 0.9847\n",
      "Epoch 99/100\n",
      "230/230 [==============================] - 80s 346ms/step - loss: 0.0643 - acc: 0.9945 - val_loss: 0.1056 - val_acc: 0.9825\n",
      "Epoch 100/100\n",
      "230/230 [==============================] - 80s 347ms/step - loss: 0.0573 - acc: 0.9963 - val_loss: 0.0952 - val_acc: 0.9883\n"
     ]
    }
   ],
   "source": [
    "history = model.fit_generator(\n",
    "    train_generator,\n",
    "    steps_per_epoch=230,\n",
    "    epochs=100,\n",
    "    validation_data=validation_generator,\n",
    "    validation_steps=43)"
   ]
  },
  {
   "cell_type": "markdown",
   "metadata": {},
   "source": [
    "### Saving the model"
   ]
  },
  {
   "cell_type": "code",
   "execution_count": 5,
   "metadata": {},
   "outputs": [],
   "source": [
    "model.save('./saved model/tomato_small_1.h5')"
   ]
  },
  {
   "cell_type": "markdown",
   "metadata": {},
   "source": [
    "### Displaying curves of loss and accuracy during training"
   ]
  },
  {
   "cell_type": "code",
   "execution_count": 6,
   "metadata": {},
   "outputs": [
    {
     "data": {
      "image/png": "[encoded data removed]",
      "text/plain": [
       "<Figure size 432x288 with 1 Axes>"
      ]
     },
     "metadata": {
      "needs_background": "light"
     },
     "output_type": "display_data"
    },
    {
     "data": {
      "image/png": "[encoded data removed]",
      "text/plain": [
       "<Figure size 432x288 with 1 Axes>"
      ]
     },
     "metadata": {
      "needs_background": "light"
     },
     "output_type": "display_data"
    }
   ],
   "source": [
    "import matplotlib.pyplot as plt\n",
    "# Config the matplotlib backend as plotting inline in IPython\n",
    "%matplotlib inline\n",
    "\n",
    "acc = history.history['acc']\n",
    "val_acc = history.history['val_acc']\n",
    "loss = history.history['loss']\n",
    "val_loss = history.history['val_loss']\n",
    "epochs = range(1, len(acc) + 1)\n",
    "plt.plot(epochs, acc, 'bo', label='Training acc')\n",
    "plt.plot(epochs, val_acc, 'b', label='Validation acc')\n",
    "plt.title('Training and validation accuracy')\n",
    "plt.legend()\n",
    "plt.figure()\n",
    "plt.plot(epochs, loss, 'bo', label='Training loss')\n",
    "plt.plot(epochs, val_loss, 'b', label='Validation loss')\n",
    "plt.title('Training and validation loss')\n",
    "plt.legend()\n",
    "plt.show()"
   ]
  },
  {
   "cell_type": "markdown",
   "metadata": {},
   "source": [
    "### Train the model on all samples (Training and Validation)"
   ]
  },
  {
   "cell_type": "code",
   "execution_count": 11,
   "metadata": {},
   "outputs": [
    {
     "name": "stdout",
     "output_type": "stream",
     "text": [
      "Found 453 images belonging to 6 classes.\n"
     ]
    }
   ],
   "source": [
    "test_dir = \"../dataset_splits/test\"\n",
    "\n",
    "test_datagen = ImageDataGenerator(rescale=1./255)\n",
    "\n",
    "\n",
    "test_generator = test_datagen.flow_from_directory(\n",
    "    test_dir, # Target directory\n",
    "    target_size=(150, 150), #Resizes all images to 150 × 150\n",
    "    batch_size=32,\n",
    "    class_mode='categorical') #Because you use binary_crossentropy loss, you need binary labels\n"
   ]
  },
  {
   "cell_type": "code",
   "execution_count": 13,
   "metadata": {},
   "outputs": [],
   "source": [
    "score = model.evaluate_generator(test_generator, steps=40, max_queue_size=10, workers=1, use_multiprocessing=False, verbose=0)"
   ]
  },
  {
   "cell_type": "code",
   "execution_count": 14,
   "metadata": {},
   "outputs": [
    {
     "name": "stdout",
     "output_type": "stream",
     "text": [
      "[0.05360759183655069, 0.99836867862969]\n"
     ]
    }
   ],
   "source": [
    "print(score)"
   ]
  },
  {
   "cell_type": "code",
   "execution_count": null,
   "metadata": {},
   "outputs": [],
   "source": []
  }
 ],
 "metadata": {
  "kernelspec": {
   "display_name": "Python 3",
   "language": "python",
   "name": "python3"
  },
  "language_info": {
   "codemirror_mode": {
    "name": "ipython",
    "version": 3
   },
   "file_extension": ".py",
   "mimetype": "text/x-python",
   "name": "python",
   "nbconvert_exporter": "python",
   "pygments_lexer": "ipython3",
   "version": "3.6.7"
  }
 },
 "nbformat": 4,
 "nbformat_minor": 2
}
