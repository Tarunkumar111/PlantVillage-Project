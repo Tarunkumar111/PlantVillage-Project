{
 "cells": [
  {
   "cell_type": "markdown",
   "metadata": {},
   "source": [
    "### Building your network"
   ]
  },
  {
   "cell_type": "code",
   "execution_count": 1,
   "metadata": {},
   "outputs": [
    {
     "name": "stderr",
     "output_type": "stream",
     "text": [
      "Using TensorFlow backend.\n"
     ]
    },
    {
     "name": "stdout",
     "output_type": "stream",
     "text": [
      "_________________________________________________________________\n",
      "Layer (type)                 Output Shape              Param #   \n",
      "=================================================================\n",
      "conv2d_1 (Conv2D)            (None, 148, 148, 32)      896       \n",
      "_________________________________________________________________\n",
      "max_pooling2d_1 (MaxPooling2 (None, 74, 74, 32)        0         \n",
      "_________________________________________________________________\n",
      "conv2d_2 (Conv2D)            (None, 72, 72, 64)        18496     \n",
      "_________________________________________________________________\n",
      "max_pooling2d_2 (MaxPooling2 (None, 36, 36, 64)        0         \n",
      "_________________________________________________________________\n",
      "conv2d_3 (Conv2D)            (None, 34, 34, 128)       73856     \n",
      "_________________________________________________________________\n",
      "max_pooling2d_3 (MaxPooling2 (None, 17, 17, 128)       0         \n",
      "_________________________________________________________________\n",
      "conv2d_4 (Conv2D)            (None, 15, 15, 256)       295168    \n",
      "_________________________________________________________________\n",
      "max_pooling2d_4 (MaxPooling2 (None, 7, 7, 256)         0         \n",
      "_________________________________________________________________\n",
      "flatten_1 (Flatten)          (None, 12544)             0         \n",
      "_________________________________________________________________\n",
      "dropout_1 (Dropout)          (None, 12544)             0         \n",
      "_________________________________________________________________\n",
      "dense_1 (Dense)              (None, 256)               3211520   \n",
      "_________________________________________________________________\n",
      "dense_2 (Dense)              (None, 6)                 1542      \n",
      "=================================================================\n",
      "Total params: 3,601,478\n",
      "Trainable params: 3,601,478\n",
      "Non-trainable params: 0\n",
      "_________________________________________________________________\n"
     ]
    }
   ],
   "source": [
    "from keras import layers\n",
    "from keras import models\n",
    "from keras import regularizers\n",
    "\n",
    "model = models.Sequential()\n",
    "model.add(layers.Conv2D(32, (3, 3), activation='relu',input_shape=(150, 150, 3)))\n",
    "model.add(layers.MaxPooling2D((2, 2)))\n",
    "model.add(layers.Conv2D(64, (3, 3), activation='relu'))\n",
    "model.add(layers.MaxPooling2D((2, 2)))\n",
    "model.add(layers.Conv2D(128, (3, 3), activation='relu'))\n",
    "model.add(layers.MaxPooling2D((2, 2)))\n",
    "model.add(layers.Conv2D(256, (3, 3), activation='relu'))\n",
    "model.add(layers.MaxPooling2D((2, 2)))\n",
    "model.add(layers.Flatten())\n",
    "model.add(layers.Dropout(0.63))\n",
    "model.add(layers.Dense(256, activation='relu' ,kernel_regularizer=regularizers.l2(0.0025)))\n",
    "model.add(layers.Dense(6, activation='softmax'))\n",
    "\n",
    "model.summary()"
   ]
  },
  {
   "cell_type": "code",
   "execution_count": 2,
   "metadata": {},
   "outputs": [],
   "source": [
    "from keras import optimizers\n",
    "model.compile(loss='categorical_crossentropy',\n",
    "optimizer=optimizers.Adam(lr=1e-3),\n",
    "metrics=['acc'])"
   ]
  },
  {
   "cell_type": "markdown",
   "metadata": {},
   "source": [
    "### Data preprocessing\n",
    "Using ImageDataGenerator to read images from directories"
   ]
  },
  {
   "cell_type": "code",
   "execution_count": 3,
   "metadata": {},
   "outputs": [
    {
     "name": "stdout",
     "output_type": "stream",
     "text": [
      "Found 6397 images belonging to 6 classes.\n",
      "Found 1196 images belonging to 6 classes.\n"
     ]
    }
   ],
   "source": [
    "from keras.preprocessing.image import ImageDataGenerator\n",
    "\n",
    "train_dir = \"../dataset_splits/train\"\n",
    "validation_dir = \"../dataset_splits/validation\"\n",
    "\n",
    "# Rescales all images by 1/255\n",
    "train_datagen = ImageDataGenerator(rescale=1./255)\n",
    "validation_datagen = ImageDataGenerator(rescale=1./255)\n",
    "\n",
    "\n",
    "train_generator = train_datagen.flow_from_directory(\n",
    "    train_dir, # Target directory\n",
    "    target_size=(150, 150), #Resizes all images to 150 × 150\n",
    "    batch_size=32,\n",
    "    class_mode='categorical') #Because you use binary_crossentropy loss, you need binary labels\n",
    "\n",
    "\n",
    "validation_generator = validation_datagen.flow_from_directory(\n",
    "    validation_dir,\n",
    "    target_size=(150, 150),\n",
    "    batch_size=32,\n",
    "    class_mode='categorical')"
   ]
  },
  {
   "cell_type": "markdown",
   "metadata": {},
   "source": [
    "### Fitting the model using a batch generator"
   ]
  },
  {
   "cell_type": "code",
   "execution_count": 4,
   "metadata": {},
   "outputs": [
    {
     "name": "stdout",
     "output_type": "stream",
     "text": [
      "Epoch 1/115\n",
      "230/230 [==============================] - 96s 416ms/step - loss: 1.3589 - acc: 0.5533 - val_loss: 0.8189 - val_acc: 0.7448\n",
      "Epoch 2/115\n",
      "230/230 [==============================] - 86s 372ms/step - loss: 0.7255 - acc: 0.8022 - val_loss: 0.6116 - val_acc: 0.8429\n",
      "Epoch 3/115\n",
      "230/230 [==============================] - 86s 374ms/step - loss: 0.5592 - acc: 0.8604 - val_loss: 0.4991 - val_acc: 0.8746\n",
      "Epoch 4/115\n",
      "230/230 [==============================] - 85s 371ms/step - loss: 0.5081 - acc: 0.8797 - val_loss: 0.3817 - val_acc: 0.9329\n",
      "Epoch 5/115\n",
      "230/230 [==============================] - 85s 370ms/step - loss: 0.4388 - acc: 0.9019 - val_loss: 0.3658 - val_acc: 0.9285\n",
      "Epoch 6/115\n",
      "230/230 [==============================] - 84s 367ms/step - loss: 0.4019 - acc: 0.9134 - val_loss: 0.4068 - val_acc: 0.9196\n",
      "Epoch 7/115\n",
      "230/230 [==============================] - 85s 368ms/step - loss: 0.3972 - acc: 0.9218 - val_loss: 0.3464 - val_acc: 0.9395\n",
      "Epoch 8/115\n",
      "230/230 [==============================] - 84s 365ms/step - loss: 0.3543 - acc: 0.9327 - val_loss: 0.3413 - val_acc: 0.9454\n",
      "Epoch 9/115\n",
      "230/230 [==============================] - 84s 366ms/step - loss: 0.3539 - acc: 0.9316 - val_loss: 0.3500 - val_acc: 0.9351\n",
      "Epoch 10/115\n",
      "230/230 [==============================] - 84s 366ms/step - loss: 0.3278 - acc: 0.9415 - val_loss: 0.3793 - val_acc: 0.9240\n",
      "Epoch 11/115\n",
      "230/230 [==============================] - 84s 366ms/step - loss: 0.3079 - acc: 0.9479 - val_loss: 0.3058 - val_acc: 0.9513\n",
      "Epoch 12/115\n",
      "230/230 [==============================] - 84s 364ms/step - loss: 0.2940 - acc: 0.9519 - val_loss: 0.3029 - val_acc: 0.9543\n",
      "Epoch 13/115\n",
      "230/230 [==============================] - 84s 366ms/step - loss: 0.3260 - acc: 0.9436 - val_loss: 0.2969 - val_acc: 0.9528\n",
      "Epoch 14/115\n",
      "230/230 [==============================] - 83s 363ms/step - loss: 0.2676 - acc: 0.9600 - val_loss: 0.2581 - val_acc: 0.9565\n",
      "Epoch 15/115\n",
      "230/230 [==============================] - 84s 364ms/step - loss: 0.2419 - acc: 0.9619 - val_loss: 0.4968 - val_acc: 0.8968\n",
      "Epoch 16/115\n",
      "230/230 [==============================] - 83s 363ms/step - loss: 0.2831 - acc: 0.9535 - val_loss: 0.2400 - val_acc: 0.9686\n",
      "Epoch 17/115\n",
      "230/230 [==============================] - 84s 364ms/step - loss: 0.2483 - acc: 0.9639 - val_loss: 0.3000 - val_acc: 0.9521\n",
      "Epoch 18/115\n",
      "230/230 [==============================] - 84s 363ms/step - loss: 0.2462 - acc: 0.9648 - val_loss: 0.2875 - val_acc: 0.9484\n",
      "Epoch 19/115\n",
      "230/230 [==============================] - 83s 363ms/step - loss: 0.2521 - acc: 0.9621 - val_loss: 0.2567 - val_acc: 0.9535\n",
      "Epoch 20/115\n",
      "230/230 [==============================] - 83s 363ms/step - loss: 0.2247 - acc: 0.9702 - val_loss: 0.2422 - val_acc: 0.9631\n",
      "Epoch 21/115\n",
      "230/230 [==============================] - 83s 363ms/step - loss: 0.1968 - acc: 0.9759 - val_loss: 0.2161 - val_acc: 0.9698\n",
      "Epoch 22/115\n",
      "230/230 [==============================] - 84s 363ms/step - loss: 0.2365 - acc: 0.9653 - val_loss: 0.3668 - val_acc: 0.9285\n",
      "Epoch 23/115\n",
      "230/230 [==============================] - 83s 363ms/step - loss: 0.2165 - acc: 0.9717 - val_loss: 0.2214 - val_acc: 0.9723\n",
      "Epoch 24/115\n",
      "230/230 [==============================] - 84s 363ms/step - loss: 0.2010 - acc: 0.9731 - val_loss: 0.2288 - val_acc: 0.9639\n",
      "Epoch 25/115\n",
      "230/230 [==============================] - 83s 362ms/step - loss: 0.2182 - acc: 0.9724 - val_loss: 0.2343 - val_acc: 0.9690\n",
      "Epoch 26/115\n",
      "230/230 [==============================] - 83s 363ms/step - loss: 0.1845 - acc: 0.9781 - val_loss: 0.2408 - val_acc: 0.9572\n",
      "Epoch 27/115\n",
      "230/230 [==============================] - 83s 362ms/step - loss: 0.2064 - acc: 0.9700 - val_loss: 0.2041 - val_acc: 0.9779\n",
      "Epoch 28/115\n",
      "230/230 [==============================] - 83s 362ms/step - loss: 0.2041 - acc: 0.9754 - val_loss: 0.2099 - val_acc: 0.9705\n",
      "Epoch 29/115\n",
      "230/230 [==============================] - 84s 364ms/step - loss: 0.1982 - acc: 0.9737 - val_loss: 0.1784 - val_acc: 0.9668\n",
      "Epoch 30/115\n",
      "230/230 [==============================] - 83s 361ms/step - loss: 0.1829 - acc: 0.9777 - val_loss: 0.1965 - val_acc: 0.9808\n",
      "Epoch 31/115\n",
      "230/230 [==============================] - 83s 363ms/step - loss: 0.1671 - acc: 0.9814 - val_loss: 0.1876 - val_acc: 0.9760\n",
      "Epoch 32/115\n",
      "230/230 [==============================] - 83s 362ms/step - loss: 0.1975 - acc: 0.9750 - val_loss: 0.2008 - val_acc: 0.9771\n",
      "Epoch 33/115\n",
      "230/230 [==============================] - 84s 363ms/step - loss: 0.1590 - acc: 0.9823 - val_loss: 0.1907 - val_acc: 0.9771\n",
      "Epoch 34/115\n",
      "230/230 [==============================] - 84s 365ms/step - loss: 0.1579 - acc: 0.9819 - val_loss: 0.1746 - val_acc: 0.9786\n",
      "Epoch 35/115\n",
      "230/230 [==============================] - 82s 358ms/step - loss: 0.1627 - acc: 0.9807 - val_loss: 0.1977 - val_acc: 0.9712\n",
      "Epoch 36/115\n",
      "230/230 [==============================] - 83s 359ms/step - loss: 0.1796 - acc: 0.9762 - val_loss: 0.1726 - val_acc: 0.9764\n",
      "Epoch 37/115\n",
      "230/230 [==============================] - 83s 359ms/step - loss: 0.1563 - acc: 0.9852 - val_loss: 0.1494 - val_acc: 0.9838\n",
      "Epoch 38/115\n",
      "230/230 [==============================] - 82s 359ms/step - loss: 0.1507 - acc: 0.9839 - val_loss: 0.1709 - val_acc: 0.9723\n",
      "Epoch 39/115\n",
      "230/230 [==============================] - 83s 359ms/step - loss: 0.1468 - acc: 0.9845 - val_loss: 0.1553 - val_acc: 0.9808\n",
      "Epoch 40/115\n",
      "230/230 [==============================] - 83s 359ms/step - loss: 0.1710 - acc: 0.9781 - val_loss: 0.2183 - val_acc: 0.9594\n",
      "Epoch 41/115\n",
      "230/230 [==============================] - 83s 360ms/step - loss: 0.1653 - acc: 0.9776 - val_loss: 0.2038 - val_acc: 0.9661\n",
      "Epoch 42/115\n",
      "230/230 [==============================] - 82s 357ms/step - loss: 0.1654 - acc: 0.9830 - val_loss: 0.2460 - val_acc: 0.9639\n",
      "Epoch 43/115\n",
      "230/230 [==============================] - 82s 356ms/step - loss: 0.1637 - acc: 0.9784 - val_loss: 0.2177 - val_acc: 0.9624\n",
      "Epoch 44/115\n",
      "230/230 [==============================] - 82s 356ms/step - loss: 0.1487 - acc: 0.9849 - val_loss: 0.1390 - val_acc: 0.9830\n",
      "Epoch 45/115\n",
      "230/230 [==============================] - 82s 357ms/step - loss: 0.1466 - acc: 0.9834 - val_loss: 0.1401 - val_acc: 0.9830\n",
      "Epoch 46/115\n",
      "230/230 [==============================] - 82s 356ms/step - loss: 0.1253 - acc: 0.9874 - val_loss: 0.2308 - val_acc: 0.9596\n",
      "Epoch 47/115\n",
      "230/230 [==============================] - 83s 359ms/step - loss: 0.1306 - acc: 0.9856 - val_loss: 0.2319 - val_acc: 0.9535\n",
      "Epoch 48/115\n",
      "230/230 [==============================] - 82s 356ms/step - loss: 0.1563 - acc: 0.9788 - val_loss: 0.2751 - val_acc: 0.9388\n",
      "Epoch 49/115\n",
      "230/230 [==============================] - 82s 357ms/step - loss: 0.1389 - acc: 0.9878 - val_loss: 0.1710 - val_acc: 0.9757\n",
      "Epoch 50/115\n",
      "230/230 [==============================] - 81s 354ms/step - loss: 0.1421 - acc: 0.9846 - val_loss: 0.1510 - val_acc: 0.9801\n",
      "Epoch 51/115\n",
      "230/230 [==============================] - 82s 356ms/step - loss: 0.1339 - acc: 0.9865 - val_loss: 0.2112 - val_acc: 0.9676\n",
      "Epoch 52/115\n",
      "230/230 [==============================] - 82s 356ms/step - loss: 0.1189 - acc: 0.9890 - val_loss: 0.1618 - val_acc: 0.9757\n",
      "Epoch 53/115\n",
      "230/230 [==============================] - 82s 355ms/step - loss: 0.1359 - acc: 0.9823 - val_loss: 0.1822 - val_acc: 0.9683\n",
      "Epoch 54/115\n",
      "230/230 [==============================] - 81s 354ms/step - loss: 0.1115 - acc: 0.9902 - val_loss: 0.1629 - val_acc: 0.9753\n",
      "Epoch 55/115\n",
      "230/230 [==============================] - 82s 355ms/step - loss: 0.1476 - acc: 0.9788 - val_loss: 0.1624 - val_acc: 0.9779\n",
      "Epoch 56/115\n",
      "230/230 [==============================] - 82s 356ms/step - loss: 0.1331 - acc: 0.9888 - val_loss: 0.1484 - val_acc: 0.9801\n",
      "Epoch 57/115\n",
      "230/230 [==============================] - 81s 354ms/step - loss: 0.1384 - acc: 0.9849 - val_loss: 0.1605 - val_acc: 0.9786\n",
      "Epoch 58/115\n",
      "230/230 [==============================] - 82s 354ms/step - loss: 0.0948 - acc: 0.9936 - val_loss: 0.1327 - val_acc: 0.9742\n",
      "Epoch 59/115\n",
      "230/230 [==============================] - 81s 353ms/step - loss: 0.1336 - acc: 0.9814 - val_loss: 0.1720 - val_acc: 0.9720\n",
      "Epoch 60/115\n",
      "230/230 [==============================] - 82s 355ms/step - loss: 0.1396 - acc: 0.9834 - val_loss: 0.2479 - val_acc: 0.9513\n"
     ]
    },
    {
     "name": "stdout",
     "output_type": "stream",
     "text": [
      "Epoch 61/115\n",
      "230/230 [==============================] - 81s 353ms/step - loss: 0.1321 - acc: 0.9863 - val_loss: 0.1429 - val_acc: 0.9798\n",
      "Epoch 62/115\n",
      "230/230 [==============================] - 81s 354ms/step - loss: 0.1036 - acc: 0.9916 - val_loss: 0.1242 - val_acc: 0.9830\n",
      "Epoch 63/115\n",
      "230/230 [==============================] - 81s 354ms/step - loss: 0.1042 - acc: 0.9908 - val_loss: 0.1220 - val_acc: 0.9801\n",
      "Epoch 64/115\n",
      "230/230 [==============================] - 81s 354ms/step - loss: 0.0904 - acc: 0.9931 - val_loss: 0.1535 - val_acc: 0.9683\n",
      "Epoch 65/115\n",
      "230/230 [==============================] - 81s 354ms/step - loss: 0.1030 - acc: 0.9876 - val_loss: 0.1661 - val_acc: 0.9676\n",
      "Epoch 66/115\n",
      "230/230 [==============================] - 81s 354ms/step - loss: 0.1141 - acc: 0.9868 - val_loss: 0.1473 - val_acc: 0.9764\n",
      "Epoch 67/115\n",
      "230/230 [==============================] - 81s 353ms/step - loss: 0.1270 - acc: 0.9835 - val_loss: 0.1474 - val_acc: 0.9779\n",
      "Epoch 68/115\n",
      "230/230 [==============================] - 81s 353ms/step - loss: 0.0983 - acc: 0.9921 - val_loss: 0.1484 - val_acc: 0.9757\n",
      "Epoch 69/115\n",
      "230/230 [==============================] - 81s 354ms/step - loss: 0.1115 - acc: 0.9871 - val_loss: 0.2083 - val_acc: 0.9566\n",
      "Epoch 70/115\n",
      "230/230 [==============================] - 81s 352ms/step - loss: 0.0937 - acc: 0.9916 - val_loss: 0.1801 - val_acc: 0.9676\n",
      "Epoch 71/115\n",
      "230/230 [==============================] - 81s 352ms/step - loss: 0.1226 - acc: 0.9833 - val_loss: 0.1459 - val_acc: 0.9749\n",
      "Epoch 72/115\n",
      "230/230 [==============================] - 81s 352ms/step - loss: 0.0908 - acc: 0.9942 - val_loss: 0.1315 - val_acc: 0.9786\n",
      "Epoch 73/115\n",
      "230/230 [==============================] - 81s 352ms/step - loss: 0.1185 - acc: 0.9846 - val_loss: 0.1641 - val_acc: 0.9757\n",
      "Epoch 74/115\n",
      "230/230 [==============================] - 81s 352ms/step - loss: 0.0950 - acc: 0.9921 - val_loss: 0.1211 - val_acc: 0.9786\n",
      "Epoch 75/115\n",
      "230/230 [==============================] - 81s 353ms/step - loss: 0.0743 - acc: 0.9948 - val_loss: 0.1039 - val_acc: 0.9875\n",
      "Epoch 76/115\n",
      "230/230 [==============================] - 81s 353ms/step - loss: 0.1097 - acc: 0.9857 - val_loss: 0.1169 - val_acc: 0.9835\n",
      "Epoch 77/115\n",
      "230/230 [==============================] - 81s 351ms/step - loss: 0.0805 - acc: 0.9943 - val_loss: 0.0867 - val_acc: 0.9875\n",
      "Epoch 78/115\n",
      "230/230 [==============================] - 81s 352ms/step - loss: 0.0864 - acc: 0.9882 - val_loss: 0.1249 - val_acc: 0.9816\n",
      "Epoch 79/115\n",
      "230/230 [==============================] - 81s 352ms/step - loss: 0.0938 - acc: 0.9907 - val_loss: 0.1562 - val_acc: 0.9698\n",
      "Epoch 80/115\n",
      "230/230 [==============================] - 81s 352ms/step - loss: 0.0942 - acc: 0.9906 - val_loss: 0.1014 - val_acc: 0.9897\n",
      "Epoch 81/115\n",
      "230/230 [==============================] - 81s 352ms/step - loss: 0.0904 - acc: 0.9905 - val_loss: 0.1451 - val_acc: 0.9764\n",
      "Epoch 82/115\n",
      "230/230 [==============================] - 81s 352ms/step - loss: 0.0954 - acc: 0.9894 - val_loss: 0.1113 - val_acc: 0.9845\n",
      "Epoch 83/115\n",
      "230/230 [==============================] - 81s 353ms/step - loss: 0.0798 - acc: 0.9939 - val_loss: 0.1109 - val_acc: 0.9786\n",
      "Epoch 84/115\n",
      "230/230 [==============================] - 81s 352ms/step - loss: 0.0967 - acc: 0.9898 - val_loss: 0.1119 - val_acc: 0.9813\n",
      "Epoch 85/115\n",
      "230/230 [==============================] - 81s 351ms/step - loss: 0.0797 - acc: 0.9918 - val_loss: 0.1138 - val_acc: 0.9830\n",
      "Epoch 86/115\n",
      "230/230 [==============================] - 81s 352ms/step - loss: 0.0947 - acc: 0.9895 - val_loss: 0.1599 - val_acc: 0.9683\n",
      "Epoch 87/115\n",
      "230/230 [==============================] - 81s 351ms/step - loss: 0.1028 - acc: 0.9879 - val_loss: 0.2158 - val_acc: 0.9631\n",
      "Epoch 88/115\n",
      "230/230 [==============================] - 81s 352ms/step - loss: 0.0992 - acc: 0.9905 - val_loss: 0.1888 - val_acc: 0.9572\n",
      "Epoch 89/115\n",
      "230/230 [==============================] - 81s 351ms/step - loss: 0.0877 - acc: 0.9936 - val_loss: 0.0865 - val_acc: 0.9897\n",
      "Epoch 90/115\n",
      "230/230 [==============================] - 81s 352ms/step - loss: 0.0647 - acc: 0.9963 - val_loss: 0.0781 - val_acc: 0.9889\n",
      "Epoch 91/115\n",
      "230/230 [==============================] - 81s 351ms/step - loss: 0.0882 - acc: 0.9885 - val_loss: 0.1228 - val_acc: 0.9801\n",
      "Epoch 92/115\n",
      "230/230 [==============================] - 81s 351ms/step - loss: 0.1129 - acc: 0.9875 - val_loss: 0.1192 - val_acc: 0.9850\n",
      "Epoch 93/115\n",
      "230/230 [==============================] - 81s 354ms/step - loss: 0.1073 - acc: 0.9886 - val_loss: 0.1105 - val_acc: 0.9845\n",
      "Epoch 94/115\n",
      "230/230 [==============================] - 81s 353ms/step - loss: 0.0795 - acc: 0.9939 - val_loss: 0.1309 - val_acc: 0.9801\n",
      "Epoch 95/115\n",
      "230/230 [==============================] - 81s 350ms/step - loss: 0.0781 - acc: 0.9940 - val_loss: 0.1411 - val_acc: 0.9749\n",
      "Epoch 96/115\n",
      "230/230 [==============================] - 80s 350ms/step - loss: 0.0767 - acc: 0.9944 - val_loss: 0.1196 - val_acc: 0.9757\n",
      "Epoch 97/115\n",
      "230/230 [==============================] - 81s 351ms/step - loss: 0.0739 - acc: 0.9935 - val_loss: 0.0794 - val_acc: 0.9882\n",
      "Epoch 98/115\n",
      "230/230 [==============================] - 81s 350ms/step - loss: 0.0641 - acc: 0.9948 - val_loss: 0.1121 - val_acc: 0.9794\n",
      "Epoch 99/115\n",
      "230/230 [==============================] - 80s 350ms/step - loss: 0.0837 - acc: 0.9905 - val_loss: 0.1675 - val_acc: 0.9708\n",
      "Epoch 100/115\n",
      "230/230 [==============================] - 80s 349ms/step - loss: 0.1302 - acc: 0.9824 - val_loss: 0.1949 - val_acc: 0.9653\n",
      "Epoch 101/115\n",
      "230/230 [==============================] - 80s 350ms/step - loss: 0.0929 - acc: 0.9931 - val_loss: 0.2397 - val_acc: 0.9580\n",
      "Epoch 102/115\n",
      "230/230 [==============================] - 81s 351ms/step - loss: 0.0803 - acc: 0.9937 - val_loss: 0.0994 - val_acc: 0.9897\n",
      "Epoch 103/115\n",
      "230/230 [==============================] - 80s 350ms/step - loss: 0.0806 - acc: 0.9936 - val_loss: 0.1032 - val_acc: 0.9867\n",
      "Epoch 104/115\n",
      "230/230 [==============================] - 80s 350ms/step - loss: 0.0612 - acc: 0.9970 - val_loss: 0.0825 - val_acc: 0.9875\n",
      "Epoch 105/115\n",
      "230/230 [==============================] - 80s 349ms/step - loss: 0.0720 - acc: 0.9918 - val_loss: 0.1210 - val_acc: 0.9779\n",
      "Epoch 106/115\n",
      "230/230 [==============================] - 80s 350ms/step - loss: 0.0667 - acc: 0.9954 - val_loss: 0.1083 - val_acc: 0.9838\n",
      "Epoch 107/115\n",
      "230/230 [==============================] - 80s 349ms/step - loss: 0.0801 - acc: 0.9910 - val_loss: 0.1010 - val_acc: 0.9835\n",
      "Epoch 108/115\n",
      "230/230 [==============================] - 80s 350ms/step - loss: 0.0755 - acc: 0.9910 - val_loss: 0.1992 - val_acc: 0.9617\n",
      "Epoch 109/115\n",
      "230/230 [==============================] - 80s 349ms/step - loss: 0.0678 - acc: 0.9941 - val_loss: 0.0841 - val_acc: 0.9867\n",
      "Epoch 110/115\n",
      "230/230 [==============================] - 80s 349ms/step - loss: 0.0812 - acc: 0.9910 - val_loss: 0.1525 - val_acc: 0.9742\n",
      "Epoch 111/115\n",
      "230/230 [==============================] - 82s 358ms/step - loss: 0.0644 - acc: 0.9959 - val_loss: 0.0817 - val_acc: 0.9853\n",
      "Epoch 112/115\n",
      "230/230 [==============================] - 84s 365ms/step - loss: 0.0590 - acc: 0.9957 - val_loss: 0.0826 - val_acc: 0.9882\n",
      "Epoch 113/115\n",
      "230/230 [==============================] - 82s 357ms/step - loss: 0.0772 - acc: 0.9909 - val_loss: 0.1394 - val_acc: 0.9735\n",
      "Epoch 114/115\n",
      "230/230 [==============================] - 81s 352ms/step - loss: 0.0736 - acc: 0.9932 - val_loss: 0.1159 - val_acc: 0.9843\n",
      "Epoch 115/115\n",
      "230/230 [==============================] - 81s 354ms/step - loss: 0.0696 - acc: 0.9939 - val_loss: 0.1029 - val_acc: 0.9875\n"
     ]
    }
   ],
   "source": [
    "history = model.fit_generator(\n",
    "    train_generator,\n",
    "    steps_per_epoch=230,\n",
    "    epochs=115,\n",
    "    validation_data=validation_generator,\n",
    "    validation_steps=43)"
   ]
  },
  {
   "cell_type": "markdown",
   "metadata": {},
   "source": [
    "### Saving the model"
   ]
  },
  {
   "cell_type": "code",
   "execution_count": 9,
   "metadata": {},
   "outputs": [],
   "source": [
    "model.save('./saved model/tomato_small_1.h5')"
   ]
  },
  {
   "cell_type": "markdown",
   "metadata": {},
   "source": [
    "### Displaying curves of loss and accuracy during training"
   ]
  },
  {
   "cell_type": "code",
   "execution_count": 5,
   "metadata": {},
   "outputs": [
    {
     "data": {
      "image/png": "[encoded data removed]",
      "text/plain": [
       "<Figure size 432x288 with 1 Axes>"
      ]
     },
     "metadata": {
      "needs_background": "light"
     },
     "output_type": "display_data"
    },
    {
     "data": {
      "image/png": "[encoded data removed]",
      "text/plain": [
       "<Figure size 432x288 with 1 Axes>"
      ]
     },
     "metadata": {
      "needs_background": "light"
     },
     "output_type": "display_data"
    }
   ],
   "source": [
    "import matplotlib.pyplot as plt\n",
    "# Config the matplotlib backend as plotting inline in IPython\n",
    "%matplotlib inline\n",
    "\n",
    "acc = history.history['acc']\n",
    "val_acc = history.history['val_acc']\n",
    "loss = history.history['loss']\n",
    "val_loss = history.history['val_loss']\n",
    "epochs = range(1, len(acc) + 1)\n",
    "plt.plot(epochs, acc, 'bo', label='Training acc')\n",
    "plt.plot(epochs, val_acc, 'b', label='Validation acc')\n",
    "plt.title('Training and validation accuracy')\n",
    "plt.legend()\n",
    "plt.figure()\n",
    "plt.plot(epochs, loss, 'bo', label='Training loss')\n",
    "plt.plot(epochs, val_loss, 'b', label='Validation loss')\n",
    "plt.title('Training and validation loss')\n",
    "plt.legend()\n",
    "plt.show()"
   ]
  },
  {
   "cell_type": "markdown",
   "metadata": {},
   "source": [
    "### Train the model on all samples (Training and Validation)"
   ]
  },
  {
   "cell_type": "code",
   "execution_count": 6,
   "metadata": {},
   "outputs": [
    {
     "name": "stdout",
     "output_type": "stream",
     "text": [
      "Found 395 images belonging to 6 classes.\n"
     ]
    }
   ],
   "source": [
    "test_dir = \"../dataset_splits/test\"\n",
    "\n",
    "test_datagen = ImageDataGenerator(rescale=1./255)\n",
    "\n",
    "\n",
    "test_generator = test_datagen.flow_from_directory(\n",
    "    test_dir, # Target directory\n",
    "    target_size=(150, 150), #Resizes all images to 150 × 150\n",
    "    batch_size=32,\n",
    "    class_mode='categorical') #Because you use binary_crossentropy loss, you need binary labels\n"
   ]
  },
  {
   "cell_type": "code",
   "execution_count": 7,
   "metadata": {},
   "outputs": [],
   "source": [
    "score = model.evaluate_generator(test_generator, steps=40, max_queue_size=10, workers=1, use_multiprocessing=False, verbose=0)"
   ]
  },
  {
   "cell_type": "code",
   "execution_count": 8,
   "metadata": {},
   "outputs": [
    {
     "name": "stdout",
     "output_type": "stream",
     "text": [
      "[0.07246145560431402, 0.990139688246546]\n"
     ]
    }
   ],
   "source": [
    "print(score)"
   ]
  },
  {
   "cell_type": "code",
   "execution_count": null,
   "metadata": {},
   "outputs": [],
   "source": []
  }
 ],
 "metadata": {
  "kernelspec": {
   "display_name": "Python 3",
   "language": "python",
   "name": "python3"
  },
  "language_info": {
   "codemirror_mode": {
    "name": "ipython",
    "version": 3
   },
   "file_extension": ".py",
   "mimetype": "text/x-python",
   "name": "python",
   "nbconvert_exporter": "python",
   "pygments_lexer": "ipython3",
   "version": "3.6.7"
  }
 },
 "nbformat": 4,
 "nbformat_minor": 2
}
