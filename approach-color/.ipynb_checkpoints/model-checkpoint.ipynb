{
 "cells": [
  {
   "cell_type": "code",
   "execution_count": 1,
   "metadata": {},
   "outputs": [
    {
     "name": "stderr",
     "output_type": "stream",
     "text": [
      "Using TensorFlow backend.\n"
     ]
    }
   ],
   "source": [
    "#Importing all the modules i will use in the project\n",
    "from __future__ import print_function\n",
    "import numpy as np\n",
    "import time\n",
    "from six.moves import cPickle as pickle\n",
    "from six.moves import range\n",
    "import matplotlib.pyplot as plt\n",
    "import os\n",
    "import tensorflow as tf\n",
    "import keras\n",
    "from keras.utils import to_categorical\n",
    "from keras import regularizers\n",
    "\n",
    "# Config the matplotlib backend as plotting inline in IPython\n",
    "%matplotlib inline"
   ]
  },
  {
   "cell_type": "code",
   "execution_count": 2,
   "metadata": {},
   "outputs": [
    {
     "name": "stdout",
     "output_type": "stream",
     "text": [
      "Training set (4856, 230, 230, 3) (4856,)\n",
      "Validation set (539, 230, 230, 3) (539,)\n"
     ]
    }
   ],
   "source": [
    "#Loading data\n",
    "pickle_file = 'tensors\\TomatoDS.pickle'\n",
    "\n",
    "with open(pickle_file, 'rb') as f:\n",
    "  save = pickle.load(f)\n",
    "  train_features = save['train_features']\n",
    "  train_labels = save['train_labels']\n",
    "  valid_features = save['valid_features']\n",
    "  valid_labels = save['valid_labels']\n",
    "  del save  # hint to help gc free up memory\n",
    "  print('Training set', train_features.shape, train_labels.shape)\n",
    "  print('Validation set', valid_features.shape, valid_labels.shape)"
   ]
  },
  {
   "cell_type": "code",
   "execution_count": 3,
   "metadata": {},
   "outputs": [
    {
     "name": "stdout",
     "output_type": "stream",
     "text": [
      "Training set (4856, 230, 230, 3) (4856, 6)\n",
      "Validation set (539, 230, 230, 3) (539, 6)\n"
     ]
    }
   ],
   "source": [
    "#convert lables to categorical\n",
    "\n",
    "train_labels = to_categorical(train_labels)\n",
    "valid_labels = to_categorical(valid_labels)\n",
    "\n",
    "print('Training set', train_features.shape, train_labels.shape)\n",
    "print('Validation set', valid_features.shape, valid_labels.shape)"
   ]
  },
  {
   "cell_type": "markdown",
   "metadata": {},
   "source": [
    "## Model Structure\n",
    "\n",
    "My model consist of 4 convolutional layers with relu activation each followed by one Max Pooling layer, and then a flatten layer followed by 3 dense layers, the first two layers with relu activation followed by dropout layer and the last with Softmax activation function of 4 outputs.\n",
    "\n",
    "- Conv 1: 32 hidden units, 5×5 filter size, relu activation.\n",
    "- Max pooling: 2×2  pool size.\n",
    "- Conv 2: 64 hidden units, 3×3 filter size, relu activation.\n",
    "- Max pooling: 2×2  pool size.\n",
    "- Conv 3: 128 hidden units, 3×3 filter size, relu activation.\n",
    "- Max pooling: 2×2  pool size.\n",
    "- Conv 4: 256 hidden units, 2×2 filter size, relu activation.\n",
    "- Max pooling: 2×2  pool size.\n",
    "- Flatten.\n",
    "- Dense 1: 180 hidden units, relu activation, L2 regularization.\n",
    "- Dropout: keep 0.5.\n",
    "- Dense 2: 64 hidden units, relu activation, L2 regularization.\n",
    "- Dropout: keep 0.5.\n",
    "- Dense 1: 4 hidden units, Softmax activation."
   ]
  },
  {
   "cell_type": "code",
   "execution_count": 4,
   "metadata": {},
   "outputs": [
    {
     "name": "stdout",
     "output_type": "stream",
     "text": [
      "_________________________________________________________________\n",
      "Layer (type)                 Output Shape              Param #   \n",
      "=================================================================\n",
      "conv2d_1 (Conv2D)            (None, 226, 226, 32)      2432      \n",
      "_________________________________________________________________\n",
      "max_pooling2d_1 (MaxPooling2 (None, 113, 113, 32)      0         \n",
      "_________________________________________________________________\n",
      "conv2d_2 (Conv2D)            (None, 111, 111, 64)      18496     \n",
      "_________________________________________________________________\n",
      "max_pooling2d_2 (MaxPooling2 (None, 55, 55, 64)        0         \n",
      "_________________________________________________________________\n",
      "conv2d_3 (Conv2D)            (None, 53, 53, 128)       73856     \n",
      "_________________________________________________________________\n",
      "max_pooling2d_3 (MaxPooling2 (None, 26, 26, 128)       0         \n",
      "_________________________________________________________________\n",
      "conv2d_4 (Conv2D)            (None, 24, 24, 256)       295168    \n",
      "_________________________________________________________________\n",
      "max_pooling2d_4 (MaxPooling2 (None, 12, 12, 256)       0         \n",
      "_________________________________________________________________\n",
      "conv2d_5 (Conv2D)            (None, 10, 10, 256)       590080    \n",
      "_________________________________________________________________\n",
      "max_pooling2d_5 (MaxPooling2 (None, 5, 5, 256)         0         \n",
      "_________________________________________________________________\n",
      "dropout_1 (Dropout)          (None, 5, 5, 256)         0         \n",
      "_________________________________________________________________\n",
      "flatten_1 (Flatten)          (None, 6400)              0         \n",
      "_________________________________________________________________\n",
      "dropout_2 (Dropout)          (None, 6400)              0         \n",
      "_________________________________________________________________\n",
      "dense_1 (Dense)              (None, 412)               2637212   \n",
      "_________________________________________________________________\n",
      "dense_2 (Dense)              (None, 6)                 2478      \n",
      "=================================================================\n",
      "Total params: 3,619,722\n",
      "Trainable params: 3,619,722\n",
      "Non-trainable params: 0\n",
      "_________________________________________________________________\n"
     ]
    }
   ],
   "source": [
    "def create_model():\n",
    "  model = keras.models.Sequential([\n",
    "    keras.layers.Conv2D(32, (5 ,5), activation='relu', input_shape=(230, 230, 3)),\n",
    "    keras.layers.MaxPooling2D((2, 2)),\n",
    "    keras.layers.Conv2D(64, (3, 3), activation='relu'),\n",
    "    keras.layers.MaxPooling2D((2, 2)),\n",
    "    keras.layers.Conv2D(128, (3, 3), activation='relu'),\n",
    "    keras.layers.MaxPooling2D((2, 2)),\n",
    "    keras.layers.Conv2D(256, (3, 3), activation='relu'),\n",
    "    keras.layers.MaxPooling2D((2, 2)),\n",
    "    keras.layers.Conv2D(256, (3, 3), activation='relu', kernel_regularizer=regularizers.l2(0.003)),\n",
    "    keras.layers.MaxPooling2D((2, 2)),\n",
    "    keras.layers.Dropout(0.65),\n",
    "    keras.layers.Flatten(),\n",
    "    keras.layers.Dropout(0.65),\n",
    "    keras.layers.Dense(412, activation='relu', kernel_regularizer=regularizers.l2(0.003)),\n",
    "    keras.layers.Dense(6, activation=tf.nn.softmax)\n",
    "  ])\n",
    "  \n",
    "  model.compile(optimizer=keras.optimizers.Adam(lr=1e-4), \n",
    "                loss=keras.losses.categorical_crossentropy,\n",
    "                metrics=['accuracy'])\n",
    "  \n",
    "  return model\n",
    "\n",
    "\n",
    "# Create a basic model instance\n",
    "model = create_model()\n",
    "model.summary()"
   ]
  },
  {
   "cell_type": "code",
   "execution_count": 5,
   "metadata": {},
   "outputs": [
    {
     "name": "stdout",
     "output_type": "stream",
     "text": [
      "Train on 4856 samples, validate on 539 samples\n",
      "Epoch 1/70\n",
      "4856/4856 [==============================] - 175s 36ms/step - loss: 3.8232 - acc: 0.3808 - val_loss: 2.8827 - val_acc: 0.6364\n",
      "Epoch 2/70\n",
      "4856/4856 [==============================] - 113s 23ms/step - loss: 2.6641 - acc: 0.6518 - val_loss: 2.3445 - val_acc: 0.7199\n",
      "Epoch 3/70\n",
      "4856/4856 [==============================] - 113s 23ms/step - loss: 2.3041 - acc: 0.7162 - val_loss: 2.0311 - val_acc: 0.8033\n",
      "Epoch 4/70\n",
      "4856/4856 [==============================] - 114s 23ms/step - loss: 2.0638 - acc: 0.7595 - val_loss: 1.9774 - val_acc: 0.7904\n",
      "Epoch 5/70\n",
      "4856/4856 [==============================] - 115s 24ms/step - loss: 1.8850 - acc: 0.7873 - val_loss: 1.7023 - val_acc: 0.8534\n",
      "Epoch 6/70\n",
      "4856/4856 [==============================] - 114s 23ms/step - loss: 1.7187 - acc: 0.8245 - val_loss: 1.5640 - val_acc: 0.8720\n",
      "Epoch 7/70\n",
      "4856/4856 [==============================] - 113s 23ms/step - loss: 1.5873 - acc: 0.8392 - val_loss: 1.4666 - val_acc: 0.8738\n",
      "Epoch 8/70\n",
      "4856/4856 [==============================] - 116s 24ms/step - loss: 1.4786 - acc: 0.8587 - val_loss: 1.3939 - val_acc: 0.8757\n",
      "Epoch 9/70\n",
      "4856/4856 [==============================] - 115s 24ms/step - loss: 1.3789 - acc: 0.8707 - val_loss: 1.2747 - val_acc: 0.8850\n",
      "Epoch 10/70\n",
      "4856/4856 [==============================] - 114s 24ms/step - loss: 1.2719 - acc: 0.8810 - val_loss: 1.1818 - val_acc: 0.9035\n",
      "Epoch 11/70\n",
      "4856/4856 [==============================] - 114s 24ms/step - loss: 1.1816 - acc: 0.8950 - val_loss: 1.0720 - val_acc: 0.9109\n",
      "Epoch 12/70\n",
      "4856/4856 [==============================] - 114s 24ms/step - loss: 1.0977 - acc: 0.8991 - val_loss: 1.0435 - val_acc: 0.8924\n",
      "Epoch 13/70\n",
      "4856/4856 [==============================] - 114s 23ms/step - loss: 1.0274 - acc: 0.9047 - val_loss: 1.0575 - val_acc: 0.8980\n",
      "Epoch 14/70\n",
      "4856/4856 [==============================] - 114s 24ms/step - loss: 0.9714 - acc: 0.9125 - val_loss: 0.8788 - val_acc: 0.9276\n",
      "Epoch 15/70\n",
      "4856/4856 [==============================] - 114s 24ms/step - loss: 0.9042 - acc: 0.9143 - val_loss: 0.8232 - val_acc: 0.9314\n",
      "Epoch 16/70\n",
      "4856/4856 [==============================] - 113s 23ms/step - loss: 0.8412 - acc: 0.9273 - val_loss: 0.7915 - val_acc: 0.9295\n",
      "Epoch 17/70\n",
      "4856/4856 [==============================] - 115s 24ms/step - loss: 0.7929 - acc: 0.9261 - val_loss: 0.7374 - val_acc: 0.9369\n",
      "Epoch 18/70\n",
      "4856/4856 [==============================] - 114s 24ms/step - loss: 0.7419 - acc: 0.9322 - val_loss: 0.6810 - val_acc: 0.9481\n",
      "Epoch 19/70\n",
      "4856/4856 [==============================] - 113s 23ms/step - loss: 0.6971 - acc: 0.9382 - val_loss: 0.6615 - val_acc: 0.9276\n",
      "Epoch 20/70\n",
      "4856/4856 [==============================] - 114s 23ms/step - loss: 0.6567 - acc: 0.9374 - val_loss: 0.6042 - val_acc: 0.9499\n",
      "Epoch 21/70\n",
      "4856/4856 [==============================] - 114s 24ms/step - loss: 0.6231 - acc: 0.9374 - val_loss: 0.6353 - val_acc: 0.9202\n",
      "Epoch 22/70\n",
      "4856/4856 [==============================] - 114s 23ms/step - loss: 0.5764 - acc: 0.9473 - val_loss: 0.5390 - val_acc: 0.9536\n",
      "Epoch 23/70\n",
      "4856/4856 [==============================] - 114s 23ms/step - loss: 0.5589 - acc: 0.9458 - val_loss: 0.5191 - val_acc: 0.9443\n",
      "Epoch 24/70\n",
      "4856/4856 [==============================] - 114s 23ms/step - loss: 0.5254 - acc: 0.9444 - val_loss: 0.5097 - val_acc: 0.9443\n",
      "Epoch 25/70\n",
      "4856/4856 [==============================] - 114s 23ms/step - loss: 0.4960 - acc: 0.9485 - val_loss: 0.4798 - val_acc: 0.9443\n",
      "Epoch 26/70\n",
      "4856/4856 [==============================] - 114s 24ms/step - loss: 0.4844 - acc: 0.9450 - val_loss: 0.4734 - val_acc: 0.9425\n",
      "Epoch 27/70\n",
      "4856/4856 [==============================] - 114s 23ms/step - loss: 0.4419 - acc: 0.9547 - val_loss: 0.4322 - val_acc: 0.9462\n",
      "Epoch 28/70\n",
      "4856/4856 [==============================] - 114s 23ms/step - loss: 0.4384 - acc: 0.9502 - val_loss: 0.4252 - val_acc: 0.9555\n",
      "Epoch 29/70\n",
      "4856/4856 [==============================] - 114s 24ms/step - loss: 0.4136 - acc: 0.9551 - val_loss: 0.3850 - val_acc: 0.9592\n",
      "Epoch 30/70\n",
      "4856/4856 [==============================] - 114s 23ms/step - loss: 0.3872 - acc: 0.9594 - val_loss: 0.3934 - val_acc: 0.9499\n",
      "Epoch 31/70\n",
      "4856/4856 [==============================] - 114s 23ms/step - loss: 0.3806 - acc: 0.9547 - val_loss: 0.3483 - val_acc: 0.9666\n",
      "Epoch 32/70\n",
      "4856/4856 [==============================] - 114s 23ms/step - loss: 0.3516 - acc: 0.9615 - val_loss: 0.3617 - val_acc: 0.9536\n",
      "Epoch 33/70\n",
      "4856/4856 [==============================] - 113s 23ms/step - loss: 0.3347 - acc: 0.9623 - val_loss: 0.3771 - val_acc: 0.9555\n",
      "Epoch 34/70\n",
      "4856/4856 [==============================] - 113s 23ms/step - loss: 0.3480 - acc: 0.9568 - val_loss: 0.3194 - val_acc: 0.9703\n",
      "Epoch 35/70\n",
      "4856/4856 [==============================] - 112s 23ms/step - loss: 0.3146 - acc: 0.9652 - val_loss: 0.3071 - val_acc: 0.9740\n",
      "Epoch 36/70\n",
      "4856/4856 [==============================] - 113s 23ms/step - loss: 0.3285 - acc: 0.9574 - val_loss: 0.2871 - val_acc: 0.9722\n",
      "Epoch 37/70\n",
      "4856/4856 [==============================] - 112s 23ms/step - loss: 0.3035 - acc: 0.9644 - val_loss: 0.2930 - val_acc: 0.9666\n",
      "Epoch 38/70\n",
      "4856/4856 [==============================] - 112s 23ms/step - loss: 0.2857 - acc: 0.9646 - val_loss: 0.2856 - val_acc: 0.9703\n",
      "Epoch 39/70\n",
      "4856/4856 [==============================] - 112s 23ms/step - loss: 0.2750 - acc: 0.9640 - val_loss: 0.2861 - val_acc: 0.9592\n",
      "Epoch 40/70\n",
      "4856/4856 [==============================] - 115s 24ms/step - loss: 0.2665 - acc: 0.9699 - val_loss: 0.2609 - val_acc: 0.9666\n",
      "Epoch 41/70\n",
      "4856/4856 [==============================] - 114s 23ms/step - loss: 0.2674 - acc: 0.9699 - val_loss: 0.2755 - val_acc: 0.9740\n",
      "Epoch 42/70\n",
      "4856/4856 [==============================] - 113s 23ms/step - loss: 0.2563 - acc: 0.9675 - val_loss: 0.2557 - val_acc: 0.9629\n",
      "Epoch 43/70\n",
      "4856/4856 [==============================] - 113s 23ms/step - loss: 0.2518 - acc: 0.9687 - val_loss: 0.2495 - val_acc: 0.9703\n",
      "Epoch 44/70\n",
      "4856/4856 [==============================] - 113s 23ms/step - loss: 0.2529 - acc: 0.9679 - val_loss: 0.2723 - val_acc: 0.9481\n",
      "Epoch 45/70\n",
      "4856/4856 [==============================] - 113s 23ms/step - loss: 0.2647 - acc: 0.9644 - val_loss: 0.2457 - val_acc: 0.9536\n",
      "Epoch 46/70\n",
      "4856/4856 [==============================] - 113s 23ms/step - loss: 0.2374 - acc: 0.9734 - val_loss: 0.2400 - val_acc: 0.9722\n",
      "Epoch 47/70\n",
      "4856/4856 [==============================] - 113s 23ms/step - loss: 0.2231 - acc: 0.9730 - val_loss: 0.2842 - val_acc: 0.9462\n",
      "Epoch 48/70\n",
      "4856/4856 [==============================] - 114s 23ms/step - loss: 0.2297 - acc: 0.9703 - val_loss: 0.2231 - val_acc: 0.9740\n",
      "Epoch 49/70\n",
      "4856/4856 [==============================] - 114s 23ms/step - loss: 0.2222 - acc: 0.9726 - val_loss: 0.2535 - val_acc: 0.9573\n",
      "Epoch 50/70\n",
      "4856/4856 [==============================] - 114s 23ms/step - loss: 0.2199 - acc: 0.9718 - val_loss: 0.2079 - val_acc: 0.9777\n",
      "Epoch 51/70\n",
      "4856/4856 [==============================] - 112s 23ms/step - loss: 0.2150 - acc: 0.9724 - val_loss: 0.2230 - val_acc: 0.9647\n",
      "Epoch 52/70\n",
      "4856/4856 [==============================] - 112s 23ms/step - loss: 0.2151 - acc: 0.9724 - val_loss: 0.2061 - val_acc: 0.9740\n",
      "Epoch 53/70\n",
      "4856/4856 [==============================] - 112s 23ms/step - loss: 0.2036 - acc: 0.9765 - val_loss: 0.1987 - val_acc: 0.9777\n",
      "Epoch 54/70\n",
      "4856/4856 [==============================] - 112s 23ms/step - loss: 0.2060 - acc: 0.9743 - val_loss: 0.2338 - val_acc: 0.9555\n",
      "Epoch 55/70\n",
      "4856/4856 [==============================] - 112s 23ms/step - loss: 0.2000 - acc: 0.9763 - val_loss: 0.1999 - val_acc: 0.9740\n",
      "Epoch 56/70\n",
      "4856/4856 [==============================] - 112s 23ms/step - loss: 0.1957 - acc: 0.9747 - val_loss: 0.2022 - val_acc: 0.9722\n",
      "Epoch 57/70\n",
      "4856/4856 [==============================] - 112s 23ms/step - loss: 0.1933 - acc: 0.9751 - val_loss: 0.2024 - val_acc: 0.9759\n",
      "Epoch 58/70\n",
      "4856/4856 [==============================] - 112s 23ms/step - loss: 0.1980 - acc: 0.9730 - val_loss: 0.1929 - val_acc: 0.9759\n",
      "Epoch 59/70\n",
      "4856/4856 [==============================] - 112s 23ms/step - loss: 0.1972 - acc: 0.9722 - val_loss: 0.2063 - val_acc: 0.9685\n",
      "Epoch 60/70\n",
      "4856/4856 [==============================] - 112s 23ms/step - loss: 0.1794 - acc: 0.9817 - val_loss: 0.2275 - val_acc: 0.9610\n",
      "Epoch 61/70\n",
      "4856/4856 [==============================] - 112s 23ms/step - loss: 0.1890 - acc: 0.9759 - val_loss: 0.1892 - val_acc: 0.9703\n",
      "Epoch 62/70\n",
      "4856/4856 [==============================] - 112s 23ms/step - loss: 0.1779 - acc: 0.9796 - val_loss: 0.1956 - val_acc: 0.9833\n",
      "Epoch 63/70\n",
      "4856/4856 [==============================] - 112s 23ms/step - loss: 0.1862 - acc: 0.9753 - val_loss: 0.1833 - val_acc: 0.9796\n",
      "Epoch 64/70\n",
      "4856/4856 [==============================] - 112s 23ms/step - loss: 0.1915 - acc: 0.9706 - val_loss: 0.2095 - val_acc: 0.9759\n",
      "Epoch 65/70\n",
      "4856/4856 [==============================] - 112s 23ms/step - loss: 0.1856 - acc: 0.9759 - val_loss: 0.1997 - val_acc: 0.9833\n",
      "Epoch 66/70\n",
      "4856/4856 [==============================] - 112s 23ms/step - loss: 0.1708 - acc: 0.9804 - val_loss: 0.2008 - val_acc: 0.9647\n",
      "Epoch 67/70\n",
      "4856/4856 [==============================] - 112s 23ms/step - loss: 0.1748 - acc: 0.9796 - val_loss: 0.1945 - val_acc: 0.9722\n",
      "Epoch 68/70\n",
      "4856/4856 [==============================] - 112s 23ms/step - loss: 0.1767 - acc: 0.9786 - val_loss: 0.1953 - val_acc: 0.9814\n",
      "Epoch 69/70\n",
      "4856/4856 [==============================] - 112s 23ms/step - loss: 0.1665 - acc: 0.9817 - val_loss: 0.1664 - val_acc: 0.9796\n",
      "Epoch 70/70\n",
      "4856/4856 [==============================] - 112s 23ms/step - loss: 0.1600 - acc: 0.9811 - val_loss: 0.1805 - val_acc: 0.9740\n"
     ]
    }
   ],
   "source": [
    "\n",
    "\n",
    "history = model.fit(train_features, train_labels,  epochs = 70, batch_size=40, \n",
    "          validation_data = (valid_features,valid_labels),\n",
    "\n",
    "         )\n"
   ]
  },
  {
   "cell_type": "code",
   "execution_count": 6,
   "metadata": {},
   "outputs": [
    {
     "data": {
      "image/png": "[encoded data removed]",
      "text/plain": [
       "<Figure size 432x288 with 1 Axes>"
      ]
     },
     "metadata": {
      "needs_background": "light"
     },
     "output_type": "display_data"
    }
   ],
   "source": [
    "history_dict = history.history\n",
    "loss_values = history_dict['loss']\n",
    "val_loss_values = history_dict['val_loss']\n",
    "epochs = range(1, len(history_dict['acc']) + 1)\n",
    "plt.plot(epochs, loss_values, 'bo', label='Training loss')\n",
    "plt.plot(epochs, val_loss_values, 'b', label='Validation loss')\n",
    "plt.title('Training and validation loss')\n",
    "plt.xlabel('Epochs')\n",
    "plt.ylabel('Loss')\n",
    "plt.legend()\n",
    "plt.show()"
   ]
  },
  {
   "cell_type": "code",
   "execution_count": 7,
   "metadata": {},
   "outputs": [
    {
     "data": {
      "image/png": "[encoded data removed]",
      "text/plain": [
       "<Figure size 432x288 with 1 Axes>"
      ]
     },
     "metadata": {
      "needs_background": "light"
     },
     "output_type": "display_data"
    }
   ],
   "source": [
    "plt.clf()\n",
    "acc_values = history_dict['acc']\n",
    "val_acc_values = history_dict['val_acc']\n",
    "plt.plot(epochs, acc_values, 'bo', label='Training acc')\n",
    "plt.plot(epochs, val_acc_values, 'b', label='Validation acc')\n",
    "plt.title('Training and validation accuracy')\n",
    "plt.xlabel('Epochs')\n",
    "plt.ylabel('Loss')\n",
    "plt.legend()\n",
    "plt.show()"
   ]
  },
  {
   "cell_type": "markdown",
   "metadata": {},
   "source": [
    "### Save the model"
   ]
  },
  {
   "cell_type": "code",
   "execution_count": 8,
   "metadata": {},
   "outputs": [],
   "source": [
    "model.save(\"saved model/tomato_model.h5\")"
   ]
  },
  {
   "cell_type": "code",
   "execution_count": 9,
   "metadata": {},
   "outputs": [],
   "source": [
    "import tensorflowjs as tfjs\n",
    "tfjs.converters.save_keras_model(model, \"demo/public/plantVillageModel/\")"
   ]
  },
  {
   "cell_type": "code",
   "execution_count": 10,
   "metadata": {},
   "outputs": [],
   "source": []
  },
  {
   "cell_type": "code",
   "execution_count": null,
   "metadata": {},
   "outputs": [],
   "source": []
  },
  {
   "cell_type": "code",
   "execution_count": null,
   "metadata": {},
   "outputs": [],
   "source": []
  }
 ],
 "metadata": {
  "kernelspec": {
   "display_name": "Python 3",
   "language": "python",
   "name": "python3"
  },
  "language_info": {
   "codemirror_mode": {
    "name": "ipython",
    "version": 3
   },
   "file_extension": ".py",
   "mimetype": "text/x-python",
   "name": "python",
   "nbconvert_exporter": "python",
   "pygments_lexer": "ipython3",
   "version": "3.6.7"
  }
 },
 "nbformat": 4,
 "nbformat_minor": 2
}
