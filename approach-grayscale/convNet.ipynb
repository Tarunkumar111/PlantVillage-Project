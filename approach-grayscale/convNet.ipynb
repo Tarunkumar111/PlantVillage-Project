{
 "cells": [
  {
   "cell_type": "markdown",
   "metadata": {},
   "source": [
    "### Building your network"
   ]
  },
  {
   "cell_type": "code",
   "execution_count": 1,
   "metadata": {},
   "outputs": [
    {
     "name": "stderr",
     "output_type": "stream",
     "text": [
      "Using TensorFlow backend.\n"
     ]
    },
    {
     "name": "stdout",
     "output_type": "stream",
     "text": [
      "_________________________________________________________________\n",
      "Layer (type)                 Output Shape              Param #   \n",
      "=================================================================\n",
      "conv2d_1 (Conv2D)            (None, 148, 148, 32)      320       \n",
      "_________________________________________________________________\n",
      "max_pooling2d_1 (MaxPooling2 (None, 74, 74, 32)        0         \n",
      "_________________________________________________________________\n",
      "conv2d_2 (Conv2D)            (None, 72, 72, 64)        18496     \n",
      "_________________________________________________________________\n",
      "max_pooling2d_2 (MaxPooling2 (None, 36, 36, 64)        0         \n",
      "_________________________________________________________________\n",
      "conv2d_3 (Conv2D)            (None, 34, 34, 128)       73856     \n",
      "_________________________________________________________________\n",
      "max_pooling2d_3 (MaxPooling2 (None, 17, 17, 128)       0         \n",
      "_________________________________________________________________\n",
      "conv2d_4 (Conv2D)            (None, 15, 15, 256)       295168    \n",
      "_________________________________________________________________\n",
      "max_pooling2d_4 (MaxPooling2 (None, 7, 7, 256)         0         \n",
      "_________________________________________________________________\n",
      "flatten_1 (Flatten)          (None, 12544)             0         \n",
      "_________________________________________________________________\n",
      "dropout_1 (Dropout)          (None, 12544)             0         \n",
      "_________________________________________________________________\n",
      "dense_1 (Dense)              (None, 128)               1605760   \n",
      "_________________________________________________________________\n",
      "dense_2 (Dense)              (None, 6)                 774       \n",
      "=================================================================\n",
      "Total params: 1,994,374\n",
      "Trainable params: 1,994,374\n",
      "Non-trainable params: 0\n",
      "_________________________________________________________________\n"
     ]
    }
   ],
   "source": [
    "from keras import layers\n",
    "from keras import models\n",
    "from keras import regularizers\n",
    "\n",
    "model = models.Sequential()\n",
    "model.add(layers.Conv2D(32, (3, 3), activation='relu',input_shape=(150, 150, 1)))\n",
    "model.add(layers.MaxPooling2D((2, 2)))\n",
    "model.add(layers.Conv2D(64, (3, 3), activation='relu'))\n",
    "model.add(layers.MaxPooling2D((2, 2)))\n",
    "model.add(layers.Conv2D(128, (3, 3), activation='relu'))\n",
    "model.add(layers.MaxPooling2D((2, 2)))\n",
    "model.add(layers.Conv2D(256, (3, 3), activation='relu'))\n",
    "model.add(layers.MaxPooling2D((2, 2)))\n",
    "model.add(layers.Flatten())\n",
    "model.add(layers.Dropout(0.65))\n",
    "model.add(layers.Dense(128, activation='relu' ,kernel_regularizer=regularizers.l2(0.002)))\n",
    "model.add(layers.Dense(6, activation='softmax'))\n",
    "\n",
    "model.summary()"
   ]
  },
  {
   "cell_type": "code",
   "execution_count": 2,
   "metadata": {},
   "outputs": [],
   "source": [
    "from keras import optimizers\n",
    "model.compile(loss='categorical_crossentropy',\n",
    "optimizer=optimizers.Adam(lr=1e-3),\n",
    "metrics=['acc'])"
   ]
  },
  {
   "cell_type": "markdown",
   "metadata": {},
   "source": [
    "### Data preprocessing\n",
    "Using ImageDataGenerator to read images from directories"
   ]
  },
  {
   "cell_type": "code",
   "execution_count": 3,
   "metadata": {},
   "outputs": [
    {
     "name": "stdout",
     "output_type": "stream",
     "text": [
      "Found 6397 images belonging to 6 classes.\n",
      "Found 1196 images belonging to 6 classes.\n"
     ]
    }
   ],
   "source": [
    "from keras.preprocessing.image import ImageDataGenerator\n",
    "\n",
    "train_dir = \"../dataset_splits/train\"\n",
    "validation_dir = \"../dataset_splits/validation\"\n",
    "\n",
    "# Rescales all images by 1/255\n",
    "train_datagen = ImageDataGenerator(rescale=1./255)\n",
    "validation_datagen = ImageDataGenerator(rescale=1./255)\n",
    "\n",
    "\n",
    "train_generator = train_datagen.flow_from_directory(\n",
    "    train_dir, # Target directory\n",
    "    target_size=(150, 150), #Resizes all images to 150 × 150\n",
    "    color_mode='grayscale',\n",
    "    batch_size=32,\n",
    "    class_mode='categorical') #Because you use binary_crossentropy loss, you need binary labels\n",
    "\n",
    "\n",
    "validation_generator = validation_datagen.flow_from_directory(\n",
    "    validation_dir,\n",
    "    target_size=(150, 150),\n",
    "    color_mode='grayscale',\n",
    "    batch_size=32,\n",
    "    class_mode='categorical')"
   ]
  },
  {
   "cell_type": "markdown",
   "metadata": {},
   "source": [
    "### Fitting the model using a batch generator"
   ]
  },
  {
   "cell_type": "code",
   "execution_count": 4,
   "metadata": {},
   "outputs": [
    {
     "name": "stdout",
     "output_type": "stream",
     "text": [
      "Epoch 1/100\n",
      "230/230 [==============================] - 81s 352ms/step - loss: 1.4401 - acc: 0.4732 - val_loss: 1.2710 - val_acc: 0.5760\n",
      "Epoch 2/100\n",
      "230/230 [==============================] - 72s 314ms/step - loss: 0.9672 - acc: 0.7052 - val_loss: 0.8519 - val_acc: 0.7448\n",
      "Epoch 3/100\n",
      "230/230 [==============================] - 72s 314ms/step - loss: 0.8232 - acc: 0.7624 - val_loss: 0.8355 - val_acc: 0.7640\n",
      "Epoch 4/100\n",
      "230/230 [==============================] - 72s 314ms/step - loss: 0.7284 - acc: 0.7988 - val_loss: 0.7306 - val_acc: 0.7906\n",
      "Epoch 5/100\n",
      "230/230 [==============================] - 72s 315ms/step - loss: 0.6896 - acc: 0.8154 - val_loss: 0.7185 - val_acc: 0.8016\n",
      "Epoch 6/100\n",
      "230/230 [==============================] - 73s 318ms/step - loss: 0.6500 - acc: 0.8324 - val_loss: 0.7115 - val_acc: 0.8186\n",
      "Epoch 7/100\n",
      "230/230 [==============================] - 72s 315ms/step - loss: 0.5967 - acc: 0.8544 - val_loss: 0.5700 - val_acc: 0.8650\n",
      "Epoch 8/100\n",
      "230/230 [==============================] - 72s 315ms/step - loss: 0.5940 - acc: 0.8597 - val_loss: 0.6918 - val_acc: 0.8204\n",
      "Epoch 9/100\n",
      "230/230 [==============================] - 72s 315ms/step - loss: 0.5936 - acc: 0.8608 - val_loss: 0.5870 - val_acc: 0.8717\n",
      "Epoch 10/100\n",
      "230/230 [==============================] - 72s 315ms/step - loss: 0.5501 - acc: 0.8809 - val_loss: 0.9103 - val_acc: 0.7699\n",
      "Epoch 11/100\n",
      "230/230 [==============================] - 72s 315ms/step - loss: 0.5534 - acc: 0.8822 - val_loss: 0.5529 - val_acc: 0.8909\n",
      "Epoch 12/100\n",
      "230/230 [==============================] - 73s 316ms/step - loss: 0.5335 - acc: 0.8895 - val_loss: 0.6024 - val_acc: 0.8577\n",
      "Epoch 13/100\n",
      "230/230 [==============================] - 73s 316ms/step - loss: 0.5337 - acc: 0.8904 - val_loss: 0.6159 - val_acc: 0.8658\n",
      "Epoch 14/100\n",
      "230/230 [==============================] - 73s 316ms/step - loss: 0.4849 - acc: 0.9098 - val_loss: 0.5537 - val_acc: 0.8960\n",
      "Epoch 15/100\n",
      "230/230 [==============================] - 73s 317ms/step - loss: 0.4889 - acc: 0.9124 - val_loss: 0.6807 - val_acc: 0.8437\n",
      "Epoch 16/100\n",
      "230/230 [==============================] - 73s 316ms/step - loss: 0.4783 - acc: 0.9180 - val_loss: 0.5645 - val_acc: 0.9012\n",
      "Epoch 17/100\n",
      "230/230 [==============================] - 72s 315ms/step - loss: 0.4757 - acc: 0.9190 - val_loss: 0.5130 - val_acc: 0.9027\n",
      "Epoch 18/100\n",
      "230/230 [==============================] - 73s 319ms/step - loss: 0.4657 - acc: 0.9210 - val_loss: 0.5320 - val_acc: 0.9041\n",
      "Epoch 19/100\n",
      "230/230 [==============================] - 73s 316ms/step - loss: 0.4473 - acc: 0.9270 - val_loss: 0.5502 - val_acc: 0.9034\n",
      "Epoch 20/100\n",
      "230/230 [==============================] - 72s 315ms/step - loss: 0.4609 - acc: 0.9249 - val_loss: 0.6622 - val_acc: 0.8695\n",
      "Epoch 21/100\n",
      "230/230 [==============================] - 73s 318ms/step - loss: 0.4613 - acc: 0.9273 - val_loss: 0.5067 - val_acc: 0.9130\n",
      "Epoch 22/100\n",
      "230/230 [==============================] - 74s 320ms/step - loss: 0.4560 - acc: 0.9229 - val_loss: 0.5659 - val_acc: 0.8938\n",
      "Epoch 23/100\n",
      "230/230 [==============================] - 73s 317ms/step - loss: 0.4435 - acc: 0.9341 - val_loss: 0.5061 - val_acc: 0.9079\n",
      "Epoch 24/100\n",
      "230/230 [==============================] - 73s 316ms/step - loss: 0.4263 - acc: 0.9353 - val_loss: 0.5113 - val_acc: 0.9056\n",
      "Epoch 25/100\n",
      "230/230 [==============================] - 74s 321ms/step - loss: 0.4277 - acc: 0.9365 - val_loss: 0.4917 - val_acc: 0.9189\n",
      "Epoch 26/100\n",
      "230/230 [==============================] - 75s 328ms/step - loss: 0.4479 - acc: 0.9297 - val_loss: 0.6170 - val_acc: 0.8813\n",
      "Epoch 27/100\n",
      "230/230 [==============================] - 73s 315ms/step - loss: 0.4279 - acc: 0.9400 - val_loss: 0.5330 - val_acc: 0.8997\n",
      "Epoch 28/100\n",
      "230/230 [==============================] - 73s 317ms/step - loss: 0.4155 - acc: 0.9441 - val_loss: 0.5248 - val_acc: 0.9137\n",
      "Epoch 29/100\n",
      "230/230 [==============================] - 73s 315ms/step - loss: 0.4067 - acc: 0.9440 - val_loss: 0.4986 - val_acc: 0.9218\n",
      "Epoch 30/100\n",
      "230/230 [==============================] - 74s 320ms/step - loss: 0.4137 - acc: 0.9455 - val_loss: 0.5388 - val_acc: 0.9108\n",
      "Epoch 31/100\n",
      "230/230 [==============================] - 73s 316ms/step - loss: 0.4075 - acc: 0.9438 - val_loss: 0.4815 - val_acc: 0.9117\n",
      "Epoch 32/100\n",
      "230/230 [==============================] - 74s 321ms/step - loss: 0.3988 - acc: 0.9486 - val_loss: 0.5114 - val_acc: 0.9115\n",
      "Epoch 33/100\n",
      "230/230 [==============================] - 77s 335ms/step - loss: 0.3986 - acc: 0.9487 - val_loss: 0.5049 - val_acc: 0.9211\n",
      "Epoch 34/100\n",
      "230/230 [==============================] - 74s 324ms/step - loss: 0.3870 - acc: 0.9519 - val_loss: 0.5517 - val_acc: 0.9078\n",
      "Epoch 35/100\n",
      "230/230 [==============================] - 73s 316ms/step - loss: 0.4048 - acc: 0.9451 - val_loss: 0.5066 - val_acc: 0.9196\n",
      "Epoch 36/100\n",
      "230/230 [==============================] - 72s 315ms/step - loss: 0.3874 - acc: 0.9519 - val_loss: 0.5055 - val_acc: 0.9152\n",
      "Epoch 37/100\n",
      "230/230 [==============================] - 73s 315ms/step - loss: 0.3779 - acc: 0.9546 - val_loss: 0.5057 - val_acc: 0.9027\n",
      "Epoch 38/100\n",
      "230/230 [==============================] - 75s 327ms/step - loss: 0.3788 - acc: 0.9535 - val_loss: 0.4938 - val_acc: 0.9124\n",
      "Epoch 39/100\n",
      "230/230 [==============================] - 75s 325ms/step - loss: 0.3887 - acc: 0.9486 - val_loss: 0.5173 - val_acc: 0.9100\n",
      "Epoch 40/100\n",
      "230/230 [==============================] - 74s 322ms/step - loss: 0.3864 - acc: 0.9545 - val_loss: 0.5290 - val_acc: 0.9041\n",
      "Epoch 41/100\n",
      "230/230 [==============================] - 74s 320ms/step - loss: 0.3715 - acc: 0.9570 - val_loss: 0.5490 - val_acc: 0.8953\n",
      "Epoch 42/100\n",
      "230/230 [==============================] - 74s 320ms/step - loss: 0.3666 - acc: 0.9554 - val_loss: 0.4676 - val_acc: 0.9292\n",
      "Epoch 43/100\n",
      "230/230 [==============================] - 74s 320ms/step - loss: 0.3555 - acc: 0.9609 - val_loss: 0.4872 - val_acc: 0.9159\n",
      "Epoch 44/100\n",
      "230/230 [==============================] - 75s 326ms/step - loss: 0.3606 - acc: 0.9615 - val_loss: 0.4791 - val_acc: 0.9299\n",
      "Epoch 45/100\n",
      "230/230 [==============================] - 73s 319ms/step - loss: 0.3570 - acc: 0.9575 - val_loss: 0.5138 - val_acc: 0.9145\n",
      "Epoch 46/100\n",
      "230/230 [==============================] - 74s 322ms/step - loss: 0.3805 - acc: 0.9519 - val_loss: 0.5116 - val_acc: 0.9154\n",
      "Epoch 47/100\n",
      "230/230 [==============================] - 73s 316ms/step - loss: 0.3683 - acc: 0.9588 - val_loss: 0.5167 - val_acc: 0.8990\n",
      "Epoch 48/100\n",
      "230/230 [==============================] - 72s 314ms/step - loss: 0.3441 - acc: 0.9636 - val_loss: 0.4871 - val_acc: 0.9181\n",
      "Epoch 49/100\n",
      "230/230 [==============================] - 72s 313ms/step - loss: 0.3413 - acc: 0.9622 - val_loss: 0.5473 - val_acc: 0.9078\n",
      "Epoch 50/100\n",
      "230/230 [==============================] - 72s 314ms/step - loss: 0.3409 - acc: 0.9632 - val_loss: 0.4940 - val_acc: 0.9189\n",
      "Epoch 51/100\n",
      "230/230 [==============================] - 72s 313ms/step - loss: 0.3439 - acc: 0.9628 - val_loss: 0.4487 - val_acc: 0.9358\n",
      "Epoch 52/100\n",
      "230/230 [==============================] - 72s 313ms/step - loss: 0.3597 - acc: 0.9565 - val_loss: 0.5147 - val_acc: 0.9159\n",
      "Epoch 53/100\n",
      "230/230 [==============================] - 72s 313ms/step - loss: 0.3419 - acc: 0.9601 - val_loss: 0.5011 - val_acc: 0.9159\n",
      "Epoch 54/100\n",
      "230/230 [==============================] - 72s 314ms/step - loss: 0.3502 - acc: 0.9588 - val_loss: 0.4741 - val_acc: 0.9162\n",
      "Epoch 55/100\n",
      "230/230 [==============================] - 73s 316ms/step - loss: 0.3506 - acc: 0.9589 - val_loss: 0.4923 - val_acc: 0.9174\n",
      "Epoch 56/100\n",
      "230/230 [==============================] - 72s 313ms/step - loss: 0.3346 - acc: 0.9638 - val_loss: 0.4991 - val_acc: 0.9314\n",
      "Epoch 57/100\n",
      "230/230 [==============================] - 73s 319ms/step - loss: 0.3264 - acc: 0.9663 - val_loss: 0.4757 - val_acc: 0.9152\n",
      "Epoch 58/100\n",
      "230/230 [==============================] - 72s 314ms/step - loss: 0.3173 - acc: 0.9668 - val_loss: 0.6761 - val_acc: 0.8754\n",
      "Epoch 59/100\n",
      "230/230 [==============================] - 72s 313ms/step - loss: 0.3519 - acc: 0.9572 - val_loss: 0.4984 - val_acc: 0.9152\n",
      "Epoch 60/100\n",
      "230/230 [==============================] - 73s 319ms/step - loss: 0.3221 - acc: 0.9661 - val_loss: 0.4745 - val_acc: 0.9174\n"
     ]
    },
    {
     "name": "stdout",
     "output_type": "stream",
     "text": [
      "Epoch 61/100\n",
      "230/230 [==============================] - 72s 315ms/step - loss: 0.3189 - acc: 0.9663 - val_loss: 0.4554 - val_acc: 0.9229\n",
      "Epoch 62/100\n",
      "230/230 [==============================] - 73s 316ms/step - loss: 0.3217 - acc: 0.9679 - val_loss: 0.4554 - val_acc: 0.9240\n",
      "Epoch 63/100\n",
      "230/230 [==============================] - 73s 318ms/step - loss: 0.3188 - acc: 0.9663 - val_loss: 0.5257 - val_acc: 0.9019\n",
      "Epoch 64/100\n",
      "230/230 [==============================] - 74s 320ms/step - loss: 0.3251 - acc: 0.9653 - val_loss: 0.4926 - val_acc: 0.9152\n",
      "Epoch 65/100\n",
      "230/230 [==============================] - 73s 315ms/step - loss: 0.3010 - acc: 0.9686 - val_loss: 0.4073 - val_acc: 0.9351\n",
      "Epoch 66/100\n",
      "230/230 [==============================] - 72s 313ms/step - loss: 0.3098 - acc: 0.9643 - val_loss: 0.4569 - val_acc: 0.9240\n",
      "Epoch 67/100\n",
      "230/230 [==============================] - 72s 313ms/step - loss: 0.3280 - acc: 0.9641 - val_loss: 0.4474 - val_acc: 0.9285\n",
      "Epoch 68/100\n",
      "230/230 [==============================] - 72s 314ms/step - loss: 0.3246 - acc: 0.9651 - val_loss: 0.5094 - val_acc: 0.9233\n",
      "Epoch 69/100\n",
      "230/230 [==============================] - 73s 316ms/step - loss: 0.3201 - acc: 0.9641 - val_loss: 0.5400 - val_acc: 0.9057\n",
      "Epoch 70/100\n",
      "230/230 [==============================] - 73s 315ms/step - loss: 0.2991 - acc: 0.9710 - val_loss: 0.4194 - val_acc: 0.9358\n",
      "Epoch 71/100\n",
      "230/230 [==============================] - 72s 314ms/step - loss: 0.3170 - acc: 0.9693 - val_loss: 0.4976 - val_acc: 0.9108\n",
      "Epoch 72/100\n",
      "230/230 [==============================] - 72s 315ms/step - loss: 0.2882 - acc: 0.9735 - val_loss: 0.4246 - val_acc: 0.9307\n",
      "Epoch 73/100\n",
      "230/230 [==============================] - 72s 315ms/step - loss: 0.2872 - acc: 0.9707 - val_loss: 0.5067 - val_acc: 0.9071\n",
      "Epoch 74/100\n",
      "230/230 [==============================] - 73s 316ms/step - loss: 0.2744 - acc: 0.9736 - val_loss: 0.4532 - val_acc: 0.9336\n",
      "Epoch 75/100\n",
      "230/230 [==============================] - 72s 315ms/step - loss: 0.3166 - acc: 0.9636 - val_loss: 0.4657 - val_acc: 0.9240\n",
      "Epoch 76/100\n",
      "230/230 [==============================] - 72s 313ms/step - loss: 0.2993 - acc: 0.9698 - val_loss: 0.4504 - val_acc: 0.9229\n",
      "Epoch 77/100\n",
      "230/230 [==============================] - 72s 314ms/step - loss: 0.2943 - acc: 0.9696 - val_loss: 0.4550 - val_acc: 0.9181\n",
      "Epoch 78/100\n",
      "230/230 [==============================] - 72s 313ms/step - loss: 0.2781 - acc: 0.9740 - val_loss: 0.3861 - val_acc: 0.9403\n",
      "Epoch 79/100\n",
      "230/230 [==============================] - 72s 313ms/step - loss: 0.3124 - acc: 0.9619 - val_loss: 0.4495 - val_acc: 0.9263\n",
      "Epoch 80/100\n",
      "230/230 [==============================] - 72s 313ms/step - loss: 0.3174 - acc: 0.9630 - val_loss: 0.4525 - val_acc: 0.9255\n",
      "Epoch 81/100\n",
      "230/230 [==============================] - 72s 315ms/step - loss: 0.2859 - acc: 0.9749 - val_loss: 0.4029 - val_acc: 0.9366\n",
      "Epoch 82/100\n",
      "230/230 [==============================] - 72s 313ms/step - loss: 0.2638 - acc: 0.9774 - val_loss: 0.4555 - val_acc: 0.9204\n",
      "Epoch 83/100\n",
      "230/230 [==============================] - 72s 314ms/step - loss: 0.2754 - acc: 0.9707 - val_loss: 0.4708 - val_acc: 0.9063\n",
      "Epoch 84/100\n",
      "230/230 [==============================] - 72s 313ms/step - loss: 0.2769 - acc: 0.9724 - val_loss: 0.4108 - val_acc: 0.9304\n",
      "Epoch 85/100\n",
      "230/230 [==============================] - 72s 313ms/step - loss: 0.2928 - acc: 0.9675 - val_loss: 0.4559 - val_acc: 0.9137\n",
      "Epoch 86/100\n",
      "230/230 [==============================] - 72s 314ms/step - loss: 0.3051 - acc: 0.9648 - val_loss: 0.4664 - val_acc: 0.9152\n",
      "Epoch 87/100\n",
      "230/230 [==============================] - 72s 314ms/step - loss: 0.2686 - acc: 0.9751 - val_loss: 0.4463 - val_acc: 0.9292\n",
      "Epoch 88/100\n",
      "230/230 [==============================] - 72s 313ms/step - loss: 0.2738 - acc: 0.9706 - val_loss: 0.4701 - val_acc: 0.9204\n",
      "Epoch 89/100\n",
      "230/230 [==============================] - 72s 313ms/step - loss: 0.2844 - acc: 0.9683 - val_loss: 0.4068 - val_acc: 0.9292\n",
      "Epoch 90/100\n",
      "230/230 [==============================] - 72s 313ms/step - loss: 0.2791 - acc: 0.9710 - val_loss: 0.4565 - val_acc: 0.9167\n",
      "Epoch 91/100\n",
      "230/230 [==============================] - 72s 313ms/step - loss: 0.2845 - acc: 0.9675 - val_loss: 0.4303 - val_acc: 0.9233\n",
      "Epoch 92/100\n",
      "230/230 [==============================] - 72s 313ms/step - loss: 0.2932 - acc: 0.9678 - val_loss: 0.4220 - val_acc: 0.9251\n",
      "Epoch 93/100\n",
      "230/230 [==============================] - 72s 314ms/step - loss: 0.2556 - acc: 0.9781 - val_loss: 0.4071 - val_acc: 0.9211\n",
      "Epoch 94/100\n",
      "230/230 [==============================] - 72s 314ms/step - loss: 0.2544 - acc: 0.9754 - val_loss: 0.4064 - val_acc: 0.9292\n",
      "Epoch 95/100\n",
      "230/230 [==============================] - 72s 313ms/step - loss: 0.2617 - acc: 0.9742 - val_loss: 0.4570 - val_acc: 0.9137\n",
      "Epoch 96/100\n",
      "230/230 [==============================] - 72s 312ms/step - loss: 0.2691 - acc: 0.9702 - val_loss: 0.3841 - val_acc: 0.9358\n",
      "Epoch 97/100\n",
      "230/230 [==============================] - 72s 313ms/step - loss: 0.2647 - acc: 0.9738 - val_loss: 0.3860 - val_acc: 0.9240\n",
      "Epoch 98/100\n",
      "230/230 [==============================] - 72s 312ms/step - loss: 0.2538 - acc: 0.9770 - val_loss: 0.4275 - val_acc: 0.9226\n",
      "Epoch 99/100\n",
      "230/230 [==============================] - 72s 312ms/step - loss: 0.2755 - acc: 0.9713 - val_loss: 0.4277 - val_acc: 0.9207\n",
      "Epoch 100/100\n",
      "230/230 [==============================] - 72s 313ms/step - loss: 0.2461 - acc: 0.9788 - val_loss: 0.4506 - val_acc: 0.9159\n"
     ]
    }
   ],
   "source": [
    "history = model.fit_generator(\n",
    "    train_generator,\n",
    "    steps_per_epoch=230,\n",
    "    epochs=100,\n",
    "    validation_data=validation_generator,\n",
    "    validation_steps=43)"
   ]
  },
  {
   "cell_type": "markdown",
   "metadata": {},
   "source": [
    "### Saving the model"
   ]
  },
  {
   "cell_type": "code",
   "execution_count": 5,
   "metadata": {},
   "outputs": [],
   "source": [
    "model.save('./saved model/tomato_small_1.h5')"
   ]
  },
  {
   "cell_type": "markdown",
   "metadata": {},
   "source": [
    "### Displaying curves of loss and accuracy during training"
   ]
  },
  {
   "cell_type": "code",
   "execution_count": 6,
   "metadata": {},
   "outputs": [
    {
     "data": {
      "image/png": "[encoded data removed]",
      "text/plain": [
       "<Figure size 432x288 with 1 Axes>"
      ]
     },
     "metadata": {
      "needs_background": "light"
     },
     "output_type": "display_data"
    },
    {
     "data": {
      "image/png": "[encoded data removed]",
      "text/plain": [
       "<Figure size 432x288 with 1 Axes>"
      ]
     },
     "metadata": {
      "needs_background": "light"
     },
     "output_type": "display_data"
    }
   ],
   "source": [
    "import matplotlib.pyplot as plt\n",
    "# Config the matplotlib backend as plotting inline in IPython\n",
    "%matplotlib inline\n",
    "\n",
    "acc = history.history['acc']\n",
    "val_acc = history.history['val_acc']\n",
    "loss = history.history['loss']\n",
    "val_loss = history.history['val_loss']\n",
    "epochs = range(1, len(acc) + 1)\n",
    "plt.plot(epochs, acc, 'bo', label='Training acc')\n",
    "plt.plot(epochs, val_acc, 'b', label='Validation acc')\n",
    "plt.title('Training and validation accuracy')\n",
    "plt.legend()\n",
    "plt.figure()\n",
    "plt.plot(epochs, loss, 'bo', label='Training loss')\n",
    "plt.plot(epochs, val_loss, 'b', label='Validation loss')\n",
    "plt.title('Training and validation loss')\n",
    "plt.legend()\n",
    "plt.show()"
   ]
  },
  {
   "cell_type": "markdown",
   "metadata": {},
   "source": [
    "### Train the model on all samples (Training and Validation)"
   ]
  },
  {
   "cell_type": "code",
   "execution_count": 7,
   "metadata": {},
   "outputs": [
    {
     "name": "stdout",
     "output_type": "stream",
     "text": [
      "Found 395 images belonging to 6 classes.\n"
     ]
    }
   ],
   "source": [
    "test_dir = \"../dataset_splits/test\"\n",
    "\n",
    "test_datagen = ImageDataGenerator(rescale=1./255)\n",
    "\n",
    "\n",
    "test_generator = test_datagen.flow_from_directory(\n",
    "    test_dir, # Target directory\n",
    "    target_size=(150, 150), #Resizes all images to 150 × 150\n",
    "    color_mode='grayscale',\n",
    "    batch_size=32,\n",
    "    class_mode='categorical') #Because you use binary_crossentropy loss, you need binary labels\n"
   ]
  },
  {
   "cell_type": "code",
   "execution_count": 8,
   "metadata": {},
   "outputs": [],
   "source": [
    "score = model.evaluate_generator(test_generator, steps=40, max_queue_size=10, workers=1, use_multiprocessing=False, verbose=0)"
   ]
  },
  {
   "cell_type": "code",
   "execution_count": 9,
   "metadata": {},
   "outputs": [
    {
     "name": "stdout",
     "output_type": "stream",
     "text": [
      "[0.42828453030366825, 0.9194741171701285]\n"
     ]
    }
   ],
   "source": [
    "print(score)"
   ]
  },
  {
   "cell_type": "code",
   "execution_count": null,
   "metadata": {},
   "outputs": [],
   "source": []
  }
 ],
 "metadata": {
  "kernelspec": {
   "display_name": "Python 3",
   "language": "python",
   "name": "python3"
  },
  "language_info": {
   "codemirror_mode": {
    "name": "ipython",
    "version": 3
   },
   "file_extension": ".py",
   "mimetype": "text/x-python",
   "name": "python",
   "nbconvert_exporter": "python",
   "pygments_lexer": "ipython3",
   "version": "3.6.7"
  }
 },
 "nbformat": 4,
 "nbformat_minor": 2
}
